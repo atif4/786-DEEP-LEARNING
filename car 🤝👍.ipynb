{
 "cells": [
  {
   "cell_type": "raw",
   "id": "d60776d3",
   "metadata": {},
   "source": [
    "Correlation value is in b/w of 1 and -1\n",
    "+ve Correlation one thing/entity increase another thing/entity automatically increase is called +ve\n",
    "-ve Correlation one thing/entity increase another thing/entity automatically decrease is called -ve"
   ]
  },
  {
   "cell_type": "raw",
   "id": "eb24f7a2",
   "metadata": {},
   "source": [
    "in deep learning you can not show formula "
   ]
  },
  {
   "cell_type": "code",
   "execution_count": 1,
   "id": "82b274c9",
   "metadata": {},
   "outputs": [],
   "source": [
    "import pandas as pd\n",
    "import numpy as np\n",
    "import matplotlib.pyplot as plt\n",
    "import seaborn as sns\n",
    "plt.style.use('seaborn')\n",
    "%matplotlib inline\n",
    "from sklearn.preprocessing import LabelEncoder"
   ]
  },
  {
   "cell_type": "code",
   "execution_count": 2,
   "id": "6ca6501a",
   "metadata": {
    "scrolled": true
   },
   "outputs": [
    {
     "name": "stdout",
     "output_type": "stream",
     "text": [
      "<class 'pandas.core.frame.DataFrame'>\n",
      "RangeIndex: 1000 entries, 0 to 999\n",
      "Data columns (total 5 columns):\n",
      " #   Column        Non-Null Count  Dtype \n",
      "---  ------        --------------  ----- \n",
      " 0   User ID       1000 non-null   int64 \n",
      " 1   Gender        1000 non-null   object\n",
      " 2   Age           1000 non-null   int64 \n",
      " 3   AnnualSalary  1000 non-null   int64 \n",
      " 4   Purchased     1000 non-null   int64 \n",
      "dtypes: int64(4), object(1)\n",
      "memory usage: 39.2+ KB\n"
     ]
    }
   ],
   "source": [
    "df = pd.read_csv(r'C:\\Users\\Admin\\python\\car_data.csv')\n",
    "df.info()"
   ]
  },
  {
   "cell_type": "code",
   "execution_count": 3,
   "id": "b22a02d2",
   "metadata": {
    "scrolled": true
   },
   "outputs": [
    {
     "data": {
      "text/html": [
       "<div>\n",
       "<style scoped>\n",
       "    .dataframe tbody tr th:only-of-type {\n",
       "        vertical-align: middle;\n",
       "    }\n",
       "\n",
       "    .dataframe tbody tr th {\n",
       "        vertical-align: top;\n",
       "    }\n",
       "\n",
       "    .dataframe thead th {\n",
       "        text-align: right;\n",
       "    }\n",
       "</style>\n",
       "<table border=\"1\" class=\"dataframe\">\n",
       "  <thead>\n",
       "    <tr style=\"text-align: right;\">\n",
       "      <th></th>\n",
       "      <th>User ID</th>\n",
       "      <th>Gender</th>\n",
       "      <th>Age</th>\n",
       "      <th>AnnualSalary</th>\n",
       "      <th>Purchased</th>\n",
       "    </tr>\n",
       "  </thead>\n",
       "  <tbody>\n",
       "    <tr>\n",
       "      <th>0</th>\n",
       "      <td>385</td>\n",
       "      <td>Male</td>\n",
       "      <td>35</td>\n",
       "      <td>20000</td>\n",
       "      <td>0</td>\n",
       "    </tr>\n",
       "    <tr>\n",
       "      <th>1</th>\n",
       "      <td>681</td>\n",
       "      <td>Male</td>\n",
       "      <td>40</td>\n",
       "      <td>43500</td>\n",
       "      <td>0</td>\n",
       "    </tr>\n",
       "    <tr>\n",
       "      <th>2</th>\n",
       "      <td>353</td>\n",
       "      <td>Male</td>\n",
       "      <td>49</td>\n",
       "      <td>74000</td>\n",
       "      <td>0</td>\n",
       "    </tr>\n",
       "  </tbody>\n",
       "</table>\n",
       "</div>"
      ],
      "text/plain": [
       "   User ID Gender  Age  AnnualSalary  Purchased\n",
       "0      385   Male   35         20000          0\n",
       "1      681   Male   40         43500          0\n",
       "2      353   Male   49         74000          0"
      ]
     },
     "execution_count": 3,
     "metadata": {},
     "output_type": "execute_result"
    }
   ],
   "source": [
    "df.head(3)"
   ]
  },
  {
   "cell_type": "code",
   "execution_count": 4,
   "id": "a9ba0dae",
   "metadata": {},
   "outputs": [],
   "source": [
    "df.drop('User ID', axis=1,inplace=True)"
   ]
  },
  {
   "cell_type": "code",
   "execution_count": 5,
   "id": "1d11b8c0",
   "metadata": {
    "scrolled": true
   },
   "outputs": [
    {
     "data": {
      "text/html": [
       "<div>\n",
       "<style scoped>\n",
       "    .dataframe tbody tr th:only-of-type {\n",
       "        vertical-align: middle;\n",
       "    }\n",
       "\n",
       "    .dataframe tbody tr th {\n",
       "        vertical-align: top;\n",
       "    }\n",
       "\n",
       "    .dataframe thead th {\n",
       "        text-align: right;\n",
       "    }\n",
       "</style>\n",
       "<table border=\"1\" class=\"dataframe\">\n",
       "  <thead>\n",
       "    <tr style=\"text-align: right;\">\n",
       "      <th></th>\n",
       "      <th>Gender</th>\n",
       "      <th>Age</th>\n",
       "      <th>AnnualSalary</th>\n",
       "      <th>Purchased</th>\n",
       "    </tr>\n",
       "  </thead>\n",
       "  <tbody>\n",
       "    <tr>\n",
       "      <th>0</th>\n",
       "      <td>1</td>\n",
       "      <td>35</td>\n",
       "      <td>20000</td>\n",
       "      <td>0</td>\n",
       "    </tr>\n",
       "    <tr>\n",
       "      <th>1</th>\n",
       "      <td>1</td>\n",
       "      <td>40</td>\n",
       "      <td>43500</td>\n",
       "      <td>0</td>\n",
       "    </tr>\n",
       "    <tr>\n",
       "      <th>2</th>\n",
       "      <td>1</td>\n",
       "      <td>49</td>\n",
       "      <td>74000</td>\n",
       "      <td>0</td>\n",
       "    </tr>\n",
       "  </tbody>\n",
       "</table>\n",
       "</div>"
      ],
      "text/plain": [
       "   Gender  Age  AnnualSalary  Purchased\n",
       "0       1   35         20000          0\n",
       "1       1   40         43500          0\n",
       "2       1   49         74000          0"
      ]
     },
     "execution_count": 5,
     "metadata": {},
     "output_type": "execute_result"
    }
   ],
   "source": [
    "def get_labed_encoder(col_ids_list):\n",
    "    global new_df\n",
    "    for col_id_list in col_ids_list:\n",
    "        df[col_id_list] = df[col_id_list].apply(LabelEncoder().fit_transform)\n",
    "get_labed_encoder([['Gender']])\n",
    "df.head(3)"
   ]
  },
  {
   "cell_type": "code",
   "execution_count": 6,
   "id": "27ac665c",
   "metadata": {},
   "outputs": [
    {
     "data": {
      "text/html": [
       "<div>\n",
       "<style scoped>\n",
       "    .dataframe tbody tr th:only-of-type {\n",
       "        vertical-align: middle;\n",
       "    }\n",
       "\n",
       "    .dataframe tbody tr th {\n",
       "        vertical-align: top;\n",
       "    }\n",
       "\n",
       "    .dataframe thead th {\n",
       "        text-align: right;\n",
       "    }\n",
       "</style>\n",
       "<table border=\"1\" class=\"dataframe\">\n",
       "  <thead>\n",
       "    <tr style=\"text-align: right;\">\n",
       "      <th></th>\n",
       "      <th>Gender</th>\n",
       "      <th>Age</th>\n",
       "      <th>AnnualSalary</th>\n",
       "      <th>Purchased</th>\n",
       "    </tr>\n",
       "  </thead>\n",
       "  <tbody>\n",
       "    <tr>\n",
       "      <th>0</th>\n",
       "      <td>1.0</td>\n",
       "      <td>0.377778</td>\n",
       "      <td>0.036364</td>\n",
       "      <td>0</td>\n",
       "    </tr>\n",
       "    <tr>\n",
       "      <th>1</th>\n",
       "      <td>1.0</td>\n",
       "      <td>0.488889</td>\n",
       "      <td>0.207273</td>\n",
       "      <td>0</td>\n",
       "    </tr>\n",
       "    <tr>\n",
       "      <th>2</th>\n",
       "      <td>1.0</td>\n",
       "      <td>0.688889</td>\n",
       "      <td>0.429091</td>\n",
       "      <td>0</td>\n",
       "    </tr>\n",
       "    <tr>\n",
       "      <th>3</th>\n",
       "      <td>1.0</td>\n",
       "      <td>0.488889</td>\n",
       "      <td>0.672727</td>\n",
       "      <td>1</td>\n",
       "    </tr>\n",
       "    <tr>\n",
       "      <th>4</th>\n",
       "      <td>1.0</td>\n",
       "      <td>0.155556</td>\n",
       "      <td>0.465455</td>\n",
       "      <td>0</td>\n",
       "    </tr>\n",
       "  </tbody>\n",
       "</table>\n",
       "</div>"
      ],
      "text/plain": [
       "   Gender       Age  AnnualSalary  Purchased\n",
       "0     1.0  0.377778      0.036364          0\n",
       "1     1.0  0.488889      0.207273          0\n",
       "2     1.0  0.688889      0.429091          0\n",
       "3     1.0  0.488889      0.672727          1\n",
       "4     1.0  0.155556      0.465455          0"
      ]
     },
     "execution_count": 6,
     "metadata": {},
     "output_type": "execute_result"
    }
   ],
   "source": [
    "def get_normalize():\n",
    "    df.iloc[:,0:3] = (df-df.min())/ (df.max() - df.min())\n",
    "    return df.head()\n",
    "get_normalize()"
   ]
  },
  {
   "cell_type": "code",
   "execution_count": 7,
   "id": "8b79d78b",
   "metadata": {
    "scrolled": false
   },
   "outputs": [
    {
     "name": "stdout",
     "output_type": "stream",
     "text": [
      "(1000, 3)\n"
     ]
    },
    {
     "data": {
      "text/html": [
       "<div>\n",
       "<style scoped>\n",
       "    .dataframe tbody tr th:only-of-type {\n",
       "        vertical-align: middle;\n",
       "    }\n",
       "\n",
       "    .dataframe tbody tr th {\n",
       "        vertical-align: top;\n",
       "    }\n",
       "\n",
       "    .dataframe thead th {\n",
       "        text-align: right;\n",
       "    }\n",
       "</style>\n",
       "<table border=\"1\" class=\"dataframe\">\n",
       "  <thead>\n",
       "    <tr style=\"text-align: right;\">\n",
       "      <th></th>\n",
       "      <th>Gender</th>\n",
       "      <th>Age</th>\n",
       "      <th>AnnualSalary</th>\n",
       "    </tr>\n",
       "  </thead>\n",
       "  <tbody>\n",
       "    <tr>\n",
       "      <th>0</th>\n",
       "      <td>1.0</td>\n",
       "      <td>0.377778</td>\n",
       "      <td>0.036364</td>\n",
       "    </tr>\n",
       "    <tr>\n",
       "      <th>1</th>\n",
       "      <td>1.0</td>\n",
       "      <td>0.488889</td>\n",
       "      <td>0.207273</td>\n",
       "    </tr>\n",
       "    <tr>\n",
       "      <th>2</th>\n",
       "      <td>1.0</td>\n",
       "      <td>0.688889</td>\n",
       "      <td>0.429091</td>\n",
       "    </tr>\n",
       "    <tr>\n",
       "      <th>3</th>\n",
       "      <td>1.0</td>\n",
       "      <td>0.488889</td>\n",
       "      <td>0.672727</td>\n",
       "    </tr>\n",
       "    <tr>\n",
       "      <th>4</th>\n",
       "      <td>1.0</td>\n",
       "      <td>0.155556</td>\n",
       "      <td>0.465455</td>\n",
       "    </tr>\n",
       "  </tbody>\n",
       "</table>\n",
       "</div>"
      ],
      "text/plain": [
       "   Gender       Age  AnnualSalary\n",
       "0     1.0  0.377778      0.036364\n",
       "1     1.0  0.488889      0.207273\n",
       "2     1.0  0.688889      0.429091\n",
       "3     1.0  0.488889      0.672727\n",
       "4     1.0  0.155556      0.465455"
      ]
     },
     "execution_count": 7,
     "metadata": {},
     "output_type": "execute_result"
    }
   ],
   "source": [
    "X = df.loc[:, 'Gender':'AnnualSalary']\n",
    "print(X.shape)\n",
    "X.head()"
   ]
  },
  {
   "cell_type": "code",
   "execution_count": 8,
   "id": "cbaa5e33",
   "metadata": {
    "scrolled": false
   },
   "outputs": [
    {
     "data": {
      "text/html": [
       "<div>\n",
       "<style scoped>\n",
       "    .dataframe tbody tr th:only-of-type {\n",
       "        vertical-align: middle;\n",
       "    }\n",
       "\n",
       "    .dataframe tbody tr th {\n",
       "        vertical-align: top;\n",
       "    }\n",
       "\n",
       "    .dataframe thead th {\n",
       "        text-align: right;\n",
       "    }\n",
       "</style>\n",
       "<table border=\"1\" class=\"dataframe\">\n",
       "  <thead>\n",
       "    <tr style=\"text-align: right;\">\n",
       "      <th></th>\n",
       "      <th>Purchased</th>\n",
       "    </tr>\n",
       "  </thead>\n",
       "  <tbody>\n",
       "    <tr>\n",
       "      <th>0</th>\n",
       "      <td>0</td>\n",
       "    </tr>\n",
       "    <tr>\n",
       "      <th>1</th>\n",
       "      <td>0</td>\n",
       "    </tr>\n",
       "    <tr>\n",
       "      <th>2</th>\n",
       "      <td>0</td>\n",
       "    </tr>\n",
       "    <tr>\n",
       "      <th>3</th>\n",
       "      <td>1</td>\n",
       "    </tr>\n",
       "    <tr>\n",
       "      <th>4</th>\n",
       "      <td>0</td>\n",
       "    </tr>\n",
       "  </tbody>\n",
       "</table>\n",
       "</div>"
      ],
      "text/plain": [
       "   Purchased\n",
       "0          0\n",
       "1          0\n",
       "2          0\n",
       "3          1\n",
       "4          0"
      ]
     },
     "execution_count": 8,
     "metadata": {},
     "output_type": "execute_result"
    }
   ],
   "source": [
    "y = df[['Purchased']]\n",
    "y.head()"
   ]
  },
  {
   "cell_type": "code",
   "execution_count": 9,
   "id": "af2932f5",
   "metadata": {},
   "outputs": [],
   "source": [
    "from sklearn.model_selection import train_test_split\n",
    "def get_train_test_split(array1, array2, test_size, random_state):\n",
    "    global X_train, X_test, y_train, y_test\n",
    "    X_train, X_test, y_train, y_test = train_test_split(array1, array2, test_size=test_size,random_state=random_state)\n",
    "get_train_test_split(X,y,0.3,0)"
   ]
  },
  {
   "cell_type": "code",
   "execution_count": 10,
   "id": "711f60e5",
   "metadata": {},
   "outputs": [],
   "source": [
    "from tensorflow.keras.models import Sequential\n",
    "from tensorflow.keras.layers import Dense\n",
    "from tensorflow.keras.optimizers import Adam, SGD"
   ]
  },
  {
   "cell_type": "code",
   "execution_count": 11,
   "id": "52b34da5",
   "metadata": {},
   "outputs": [],
   "source": [
    "model = Sequential()\n",
    "model.add(Dense(16, activation='relu', input_shape=(3,)))\n",
    "model.add(Dense(16, activation='relu', input_shape=(3,))) # model.add( input_shape=(4,) -- > columns in X))\n",
    "model.add(Dense(1, activation='sigmoid')) # model.add(Dense(1 --> columns in Y, activation='sigmoid'))"
   ]
  },
  {
   "cell_type": "code",
   "execution_count": 12,
   "id": "14f7e624",
   "metadata": {},
   "outputs": [],
   "source": [
    "model.compile(optimizer='Adam',loss='binary_crossentropy',metrics=['accuracy'])"
   ]
  },
  {
   "cell_type": "code",
   "execution_count": 13,
   "id": "4f961953",
   "metadata": {},
   "outputs": [
    {
     "name": "stdout",
     "output_type": "stream",
     "text": [
      "Model: \"sequential\"\n",
      "_________________________________________________________________\n",
      " Layer (type)                Output Shape              Param #   \n",
      "=================================================================\n",
      " dense (Dense)               (None, 16)                64        \n",
      "                                                                 \n",
      " dense_1 (Dense)             (None, 16)                272       \n",
      "                                                                 \n",
      " dense_2 (Dense)             (None, 1)                 17        \n",
      "                                                                 \n",
      "=================================================================\n",
      "Total params: 353\n",
      "Trainable params: 353\n",
      "Non-trainable params: 0\n",
      "_________________________________________________________________\n"
     ]
    }
   ],
   "source": [
    "model.summary()"
   ]
  },
  {
   "cell_type": "code",
   "execution_count": 14,
   "id": "962dfa91",
   "metadata": {
    "scrolled": true
   },
   "outputs": [
    {
     "name": "stdout",
     "output_type": "stream",
     "text": [
      "Epoch 1/30\n",
      "700/700 [==============================] - 2s 2ms/step - loss: 0.6507 - accuracy: 0.6829\n",
      "Epoch 2/30\n",
      "700/700 [==============================] - 1s 2ms/step - loss: 0.5264 - accuracy: 0.8086\n",
      "Epoch 3/30\n",
      "700/700 [==============================] - 1s 2ms/step - loss: 0.4416 - accuracy: 0.8429\n",
      "Epoch 4/30\n",
      "700/700 [==============================] - 2s 2ms/step - loss: 0.3949 - accuracy: 0.8414\n",
      "Epoch 5/30\n",
      "700/700 [==============================] - 2s 2ms/step - loss: 0.3702 - accuracy: 0.8443\n",
      "Epoch 6/30\n",
      "700/700 [==============================] - 1s 2ms/step - loss: 0.3546 - accuracy: 0.8543\n",
      "Epoch 7/30\n",
      "700/700 [==============================] - 2s 2ms/step - loss: 0.3405 - accuracy: 0.8629\n",
      "Epoch 8/30\n",
      "700/700 [==============================] - 1s 2ms/step - loss: 0.3394 - accuracy: 0.8600\n",
      "Epoch 9/30\n",
      "700/700 [==============================] - 1s 2ms/step - loss: 0.3305 - accuracy: 0.8571\n",
      "Epoch 10/30\n",
      "700/700 [==============================] - 1s 2ms/step - loss: 0.3297 - accuracy: 0.8571\n",
      "Epoch 11/30\n",
      "700/700 [==============================] - 1s 2ms/step - loss: 0.3276 - accuracy: 0.8657\n",
      "Epoch 12/30\n",
      "700/700 [==============================] - 1s 2ms/step - loss: 0.3243 - accuracy: 0.8557\n",
      "Epoch 13/30\n",
      "700/700 [==============================] - 1s 2ms/step - loss: 0.3226 - accuracy: 0.8686\n",
      "Epoch 14/30\n",
      "700/700 [==============================] - 1s 2ms/step - loss: 0.3181 - accuracy: 0.8657\n",
      "Epoch 15/30\n",
      "700/700 [==============================] - 1s 2ms/step - loss: 0.3184 - accuracy: 0.8571\n",
      "Epoch 16/30\n",
      "700/700 [==============================] - 1s 2ms/step - loss: 0.3154 - accuracy: 0.8643\n",
      "Epoch 17/30\n",
      "700/700 [==============================] - 1s 2ms/step - loss: 0.3136 - accuracy: 0.8700\n",
      "Epoch 18/30\n",
      "700/700 [==============================] - 1s 2ms/step - loss: 0.3111 - accuracy: 0.8629\n",
      "Epoch 19/30\n",
      "700/700 [==============================] - 1s 2ms/step - loss: 0.3113 - accuracy: 0.8729\n",
      "Epoch 20/30\n",
      "700/700 [==============================] - 1s 2ms/step - loss: 0.3084 - accuracy: 0.8743\n",
      "Epoch 21/30\n",
      "700/700 [==============================] - 1s 2ms/step - loss: 0.3090 - accuracy: 0.8714\n",
      "Epoch 22/30\n",
      "700/700 [==============================] - 1s 2ms/step - loss: 0.3042 - accuracy: 0.8714\n",
      "Epoch 23/30\n",
      "700/700 [==============================] - 2s 2ms/step - loss: 0.3028 - accuracy: 0.8743\n",
      "Epoch 24/30\n",
      "700/700 [==============================] - 2s 2ms/step - loss: 0.3048 - accuracy: 0.8757\n",
      "Epoch 25/30\n",
      "700/700 [==============================] - 1s 2ms/step - loss: 0.3003 - accuracy: 0.8843\n",
      "Epoch 26/30\n",
      "700/700 [==============================] - 1s 2ms/step - loss: 0.3050 - accuracy: 0.8771\n",
      "Epoch 27/30\n",
      "700/700 [==============================] - 1s 2ms/step - loss: 0.3017 - accuracy: 0.8729\n",
      "Epoch 28/30\n",
      "700/700 [==============================] - 1s 2ms/step - loss: 0.3005 - accuracy: 0.8829\n",
      "Epoch 29/30\n",
      "700/700 [==============================] - 1s 2ms/step - loss: 0.2992 - accuracy: 0.8857\n",
      "Epoch 30/30\n",
      "700/700 [==============================] - 1s 2ms/step - loss: 0.3045 - accuracy: 0.8771\n"
     ]
    },
    {
     "data": {
      "text/plain": [
       "<keras.callbacks.History at 0x28859cab8e0>"
      ]
     },
     "execution_count": 14,
     "metadata": {},
     "output_type": "execute_result"
    }
   ],
   "source": [
    "#Training\n",
    "#model.fit(X, y, epochs=30)\n",
    "model.fit(X_train, y_train, epochs=30, batch_size=1)"
   ]
  },
  {
   "cell_type": "code",
   "execution_count": 15,
   "id": "b274cbed",
   "metadata": {},
   "outputs": [
    {
     "name": "stdout",
     "output_type": "stream",
     "text": [
      "10/10 [==============================] - 0s 3ms/step - loss: 0.3122 - accuracy: 0.8600\n",
      "Test accuracy: 86.00000143051147\n",
      "Test loss: 31.22166395187378\n"
     ]
    }
   ],
   "source": [
    "test_loss, test_acc = model.evaluate(X_test, y_test)\n",
    "print('Test accuracy:', test_acc*100)\n",
    "print('Test loss:', test_loss*100)"
   ]
  },
  {
   "cell_type": "code",
   "execution_count": null,
   "id": "1f39476c",
   "metadata": {},
   "outputs": [],
   "source": []
  }
 ],
 "metadata": {
  "kernelspec": {
   "display_name": "Python 3 (ipykernel)",
   "language": "python",
   "name": "python3"
  },
  "language_info": {
   "codemirror_mode": {
    "name": "ipython",
    "version": 3
   },
   "file_extension": ".py",
   "mimetype": "text/x-python",
   "name": "python",
   "nbconvert_exporter": "python",
   "pygments_lexer": "ipython3",
   "version": "3.9.12"
  }
 },
 "nbformat": 4,
 "nbformat_minor": 5
}
