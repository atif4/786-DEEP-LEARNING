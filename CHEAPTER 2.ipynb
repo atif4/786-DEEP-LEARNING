{
 "cells": [
  {
   "cell_type": "raw",
   "id": "8fc83045",
   "metadata": {},
   "source": [
    "In the previous example, we started from data stored in multidimensional Numpy arrays, also called tensors."
   ]
  },
  {
   "cell_type": "markdown",
   "id": "73567a91",
   "metadata": {},
   "source": [
    "# Scalars (0D tensors)\n",
    "A tensor that contains only one number is called a scalar (or scalar tensor, or 0-dimensional tensor, or 0D tensor). In Numpy, \n",
    "a float32 or float64 number is a scalar tensor (or scalar array)"
   ]
  },
  {
   "cell_type": "code",
   "execution_count": 1,
   "id": "127487ee",
   "metadata": {},
   "outputs": [
    {
     "name": "stdout",
     "output_type": "stream",
     "text": [
      "array x: 12 \n",
      "the demension of x is: 0D \n",
      "the shape: () \n",
      "the dAta type: int32\n"
     ]
    }
   ],
   "source": [
    "import numpy as np\n",
    "x = np.array(12)\n",
    "print(f\"array x: {x} \\nthe demension of x is: {x.ndim}D \\nthe shape: {x.shape} \\nthe dAta type: {x.dtype}\")"
   ]
  },
  {
   "cell_type": "markdown",
   "id": "e1b4afee",
   "metadata": {},
   "source": [
    "# Vectors (1D tensors)\n",
    "An array of numbers is called a vector, or 1D tensor. A 1D tensor is said to have exactly\n",
    "one axis. Following is a Numpy vector:"
   ]
  },
  {
   "cell_type": "code",
   "execution_count": 2,
   "id": "3b0ac04c",
   "metadata": {},
   "outputs": [
    {
     "name": "stdout",
     "output_type": "stream",
     "text": [
      "array x: [12  3  6 14] \n",
      "the demension of x is: 1D \n",
      "the shape: (4,) \n",
      "the dAta type: int32\n"
     ]
    }
   ],
   "source": [
    "x = np.array([12, 3, 6, 14])\n",
    "print(f\"array x: {x} \\nthe demension of x is: {x.ndim}D \\nthe shape: {x.shape} \\nthe dAta type: {x.dtype}\")"
   ]
  },
  {
   "cell_type": "markdown",
   "id": "a74669fc",
   "metadata": {},
   "source": [
    "# Matrices (2D tensors)\n",
    "An array of vectors is a matrix, or 2D tensor. A matrix has two axes (often referred to\n",
    "rows and columns). You can visually interpret a matrix as a rectangular grid of numbers.\n",
    "This is a Numpy matrix:"
   ]
  },
  {
   "cell_type": "code",
   "execution_count": 26,
   "id": "edd3954f",
   "metadata": {
    "scrolled": true
   },
   "outputs": [
    {
     "name": "stdout",
     "output_type": "stream",
     "text": [
      "array x: \n",
      "[[ 5 78  2 34  0]\n",
      " [ 6 79  3 35  1]\n",
      " [ 7 80  4 36  2]] \n",
      "the demension of x is: 2D \n",
      "the shape: (3, 5) \n",
      "the dAta type: int32\n"
     ]
    }
   ],
   "source": [
    "x = np.array([[5, 78, 2, 34, 0],\n",
    "[6, 79, 3, 35, 1],\n",
    "[7, 80, 4, 36, 2]])\n",
    "print(f\"array x: \\n{x} \\nthe demension of x is: {x.ndim}D \\nthe shape: {x.shape} \\nthe dAta type: {x.dtype}\")"
   ]
  },
  {
   "cell_type": "markdown",
   "id": "ac9958ed",
   "metadata": {},
   "source": [
    "# 3D tensors and higher-dimensional tensors\n",
    "If you pack such matrices in a new array, you obtain a 3D tensor, which you can visually\n",
    "interpret as a cube of numbers. Following is a Numpy 3D tensor:"
   ]
  },
  {
   "cell_type": "code",
   "execution_count": 27,
   "id": "aaf29aee",
   "metadata": {},
   "outputs": [
    {
     "name": "stdout",
     "output_type": "stream",
     "text": [
      "array x: \n",
      "[[[ 5 78  2 34  0]\n",
      "  [ 6 79  3 35  1]\n",
      "  [ 7 80  4 36  2]]\n",
      "\n",
      " [[ 5 78  2 34  0]\n",
      "  [ 6 79  3 35  1]\n",
      "  [ 7 80  4 36  2]]\n",
      "\n",
      " [[ 5 78  2 34  0]\n",
      "  [ 6 79  3 35  1]\n",
      "  [ 7 80  4 36  2]]] \n",
      "the demension of x is: 3D \n",
      "the shape: (3, 3, 5) \n",
      "the dAta type: int32\n"
     ]
    }
   ],
   "source": [
    "x = np.array([[[5, 78, 2, 34, 0],\n",
    "[6, 79, 3, 35, 1],\n",
    "[7, 80, 4, 36, 2]],\n",
    "[[5, 78, 2, 34, 0],\n",
    "[6, 79, 3, 35, 1],\n",
    "[7, 80, 4, 36, 2]],\n",
    "[[5, 78, 2, 34, 0],\n",
    "[6, 79, 3, 35, 1],\n",
    "[7, 80, 4, 36, 2]]])\n",
    "print(f\"array x: \\n{x} \\nthe demension of x is: {x.ndim}D \\nthe shape: {x.shape} \\nthe dAta type: {x.dtype}\")"
   ]
  },
  {
   "cell_type": "markdown",
   "id": "5e3f98d0",
   "metadata": {},
   "source": [
    "# Key attributes\n",
    "- A tensor is defined by three key attributes:\n",
    "-  Number of axes (rank)—For instance, a 3D tensor has three axes, and a matrix has two axes. This is also called the tensor’s ndim in Python libraries such as Numpy.\n",
    "\n",
    "-  Shape—This is a tuple of integers that describes how many dimensions the tensor has along each axis. For instance, the previous matrix example has shape (3, 5), and the 3D tensor example has shape (3, 3, 5). A vector has a shape with a single element, such as (5,), whereas a scalar has an empty shape, (). \n",
    "\n",
    "-  Data type (usually called dtype in Python libraries)—This is the type of the data contained in the tensor; for instance, a tensor’s type could be float32, uint8, float64, and so on. On rare occasions, you may see a char tensor. Note that string tensors don’t exist in Numpy (or in most other libraries), because tensors live in preallocated, contiguous memory segments: and strings, being variable length, would preclude the use of this implementation."
   ]
  },
  {
   "cell_type": "code",
   "execution_count": 29,
   "id": "44f2676c",
   "metadata": {},
   "outputs": [
    {
     "name": "stdout",
     "output_type": "stream",
     "text": [
      "train_images: \n",
      "[[[0 0 0 ... 0 0 0]\n",
      "  [0 0 0 ... 0 0 0]\n",
      "  [0 0 0 ... 0 0 0]\n",
      "  ...\n",
      "  [0 0 0 ... 0 0 0]\n",
      "  [0 0 0 ... 0 0 0]\n",
      "  [0 0 0 ... 0 0 0]]\n",
      "\n",
      " [[0 0 0 ... 0 0 0]\n",
      "  [0 0 0 ... 0 0 0]\n",
      "  [0 0 0 ... 0 0 0]\n",
      "  ...\n",
      "  [0 0 0 ... 0 0 0]\n",
      "  [0 0 0 ... 0 0 0]\n",
      "  [0 0 0 ... 0 0 0]]\n",
      "\n",
      " [[0 0 0 ... 0 0 0]\n",
      "  [0 0 0 ... 0 0 0]\n",
      "  [0 0 0 ... 0 0 0]\n",
      "  ...\n",
      "  [0 0 0 ... 0 0 0]\n",
      "  [0 0 0 ... 0 0 0]\n",
      "  [0 0 0 ... 0 0 0]]\n",
      "\n",
      " ...\n",
      "\n",
      " [[0 0 0 ... 0 0 0]\n",
      "  [0 0 0 ... 0 0 0]\n",
      "  [0 0 0 ... 0 0 0]\n",
      "  ...\n",
      "  [0 0 0 ... 0 0 0]\n",
      "  [0 0 0 ... 0 0 0]\n",
      "  [0 0 0 ... 0 0 0]]\n",
      "\n",
      " [[0 0 0 ... 0 0 0]\n",
      "  [0 0 0 ... 0 0 0]\n",
      "  [0 0 0 ... 0 0 0]\n",
      "  ...\n",
      "  [0 0 0 ... 0 0 0]\n",
      "  [0 0 0 ... 0 0 0]\n",
      "  [0 0 0 ... 0 0 0]]\n",
      "\n",
      " [[0 0 0 ... 0 0 0]\n",
      "  [0 0 0 ... 0 0 0]\n",
      "  [0 0 0 ... 0 0 0]\n",
      "  ...\n",
      "  [0 0 0 ... 0 0 0]\n",
      "  [0 0 0 ... 0 0 0]\n",
      "  [0 0 0 ... 0 0 0]]] \n",
      "the demension of train_images is: 3D \n",
      "the shape of train_images: (60000, 28, 28) \n",
      "the dAta type of train_images: uint8\n"
     ]
    }
   ],
   "source": [
    "from keras.datasets import mnist\n",
    "(train_images, train_labels), (test_images, test_labels) = mnist.load_data()\n",
    "# here have samples 60000 with width --> 28, height --> 28, (Chanel --> 1 grayscale)\n",
    "# here the samples are 60000\n",
    "print(f\"train_images: \\n{train_images} \\nthe demension of train_images is: {train_images.ndim}D \\nthe shape of train_images: {train_images.shape} \\nthe dAta type of train_images: {train_images.dtype}\")"
   ]
  },
  {
   "cell_type": "code",
   "execution_count": 7,
   "id": "dc509326",
   "metadata": {},
   "outputs": [
    {
     "data": {
      "image/png": "[encoded data removed]",
      "text/plain": [
       "<Figure size 432x288 with 1 Axes>"
      ]
     },
     "metadata": {
      "needs_background": "light"
     },
     "output_type": "display_data"
    }
   ],
   "source": [
    "\"\"\"we selected a specific digit alongside the first axis using the\n",
    "syntax train_images[i]. Selecting specific elements in a tensor is called tensor slicing\"\"\"\n",
    "digit = train_images[4] # I want to see the img at index of [4]\n",
    "import matplotlib.pyplot as plt\n",
    "plt.imshow(digit, cmap=plt.cm.binary)\n",
    "plt.show()"
   ]
  },
  {
   "cell_type": "code",
   "execution_count": 8,
   "id": "2add22fd",
   "metadata": {},
   "outputs": [],
   "source": [
    "my_slice = train_images[10:1000]#here i want take imgs from index[10] to index[1000] so I will have batch 990 imgs with 28,28"
   ]
  },
  {
   "cell_type": "code",
   "execution_count": 9,
   "id": "492807f4",
   "metadata": {
    "scrolled": true
   },
   "outputs": [
    {
     "name": "stdout",
     "output_type": "stream",
     "text": [
      "(990, 28, 28)\n"
     ]
    }
   ],
   "source": [
    "print(my_slice.shape)\n",
    "# here the samples are 990"
   ]
  },
  {
   "cell_type": "markdown",
   "id": "379c92f5",
   "metadata": {},
   "source": [
    "# Manipulating tensors in Numpy\n",
    "In the previous example, we selected a specific digit alongside the first axis using the\n",
    "syntax train_images[i]. Selecting specific elements in a tensor is called tensor slicing.\n",
    "Let’s look at the tensor-slicing operations you can do on Numpy arrays."
   ]
  },
  {
   "cell_type": "code",
   "execution_count": 10,
   "id": "2f445b8f",
   "metadata": {},
   "outputs": [
    {
     "data": {
      "text/plain": [
       "(90, 28, 28)"
      ]
     },
     "execution_count": 10,
     "metadata": {},
     "output_type": "execute_result"
    }
   ],
   "source": [
    "my_slice = test_images[10:100]\n",
    "# here i want take imgs from index[10] to index[100] so I will have batch 90 imgs with 28 rows and 28 columns\n",
    "my_slice.shape\n",
    "# here the samples are 90"
   ]
  },
  {
   "cell_type": "code",
   "execution_count": 11,
   "id": "4ed16967",
   "metadata": {},
   "outputs": [],
   "source": [
    "my_slice1 = train_images[10:100, :, :] # this same code as above \n",
    "# here the samples are 90"
   ]
  },
  {
   "cell_type": "code",
   "execution_count": 12,
   "id": "6f222cf1",
   "metadata": {},
   "outputs": [
    {
     "data": {
      "text/plain": [
       "(90, 28, 28)"
      ]
     },
     "execution_count": 12,
     "metadata": {},
     "output_type": "execute_result"
    }
   ],
   "source": [
    "my_slice1.shape"
   ]
  },
  {
   "cell_type": "code",
   "execution_count": 13,
   "id": "f163a320",
   "metadata": {},
   "outputs": [
    {
     "data": {
      "text/plain": [
       "(90, 28, 28)"
      ]
     },
     "execution_count": 13,
     "metadata": {},
     "output_type": "execute_result"
    }
   ],
   "source": [
    "my_slice2 = train_images[10:100, 0:28, 0:28] # this also the same code as aBove \n",
    "my_slice2.shape\n",
    "# here the samples are 90"
   ]
  },
  {
   "cell_type": "code",
   "execution_count": 14,
   "id": "5f6cb2fd",
   "metadata": {},
   "outputs": [
    {
     "data": {
      "text/plain": [
       "True"
      ]
     },
     "execution_count": 14,
     "metadata": {},
     "output_type": "execute_result"
    }
   ],
   "source": [
    "my_slice.shape == my_slice1.shape == my_slice2.shape # they are equal"
   ]
  },
  {
   "cell_type": "code",
   "execution_count": 15,
   "id": "4a0fa2e7",
   "metadata": {},
   "outputs": [],
   "source": [
    "my_slice = train_images[:, 14:, 14:] \n",
    "# here it take all imgs 60000 and crop those imgs from row 14 to last row and column 14 to the last column \n",
    "# here the samples are 60000"
   ]
  },
  {
   "cell_type": "code",
   "execution_count": 16,
   "id": "530131e3",
   "metadata": {
    "scrolled": true
   },
   "outputs": [
    {
     "data": {
      "text/plain": [
       "(60000, 14, 14)"
      ]
     },
     "execution_count": 16,
     "metadata": {},
     "output_type": "execute_result"
    }
   ],
   "source": [
    "my_slice.shape"
   ]
  },
  {
   "cell_type": "code",
   "execution_count": 17,
   "id": "4e65f61a",
   "metadata": {},
   "outputs": [
    {
     "data": {
      "image/png": "[encoded data removed]",
      "text/plain": [
       "<Figure size 432x288 with 1 Axes>"
      ]
     },
     "metadata": {
      "needs_background": "light"
     },
     "output_type": "display_data"
    }
   ],
   "source": [
    "\"\"\"we selected a specific digit alongside the first axis using the\n",
    "syntax train_images[i]. Selecting specific elements in a tensor is called tensor slicing\"\"\"\n",
    "digit = train_images[4] # I want to see the img at index of [4]\n",
    "import matplotlib.pyplot as plt\n",
    "plt.imshow(digit, cmap=plt.cm.binary)\n",
    "plt.show()"
   ]
  },
  {
   "cell_type": "code",
   "execution_count": 18,
   "id": "df418f05",
   "metadata": {},
   "outputs": [],
   "source": [
    "my_slice1 = train_images[:, 7:-7, 7:-7]\n",
    "# here it leaves 7 pixels from right and 7 pixels from left same as it leaves 7 pixels from top and 7 pixels from buttom \n",
    "# so we would get the middle portion of img \n",
    "# here the samples are 60000"
   ]
  },
  {
   "cell_type": "code",
   "execution_count": 19,
   "id": "61716f0b",
   "metadata": {},
   "outputs": [
    {
     "data": {
      "text/plain": [
       "(60000, 14, 14)"
      ]
     },
     "execution_count": 19,
     "metadata": {},
     "output_type": "execute_result"
    }
   ],
   "source": [
    "my_slice1.shape"
   ]
  },
  {
   "cell_type": "code",
   "execution_count": 20,
   "id": "68c009f8",
   "metadata": {},
   "outputs": [
    {
     "data": {
      "text/plain": [
       "True"
      ]
     },
     "execution_count": 20,
     "metadata": {},
     "output_type": "execute_result"
    }
   ],
   "source": [
    "my_slice.shape == my_slice1.shape"
   ]
  },
  {
   "cell_type": "markdown",
   "id": "dad19477",
   "metadata": {},
   "source": [
    "# The notion of data batches\n",
    "In general, the first axis (axis 0, because indexing starts at 0) in all data tensors you’ll\n",
    "come across in deep learning will be the samples axis (sometimes called the samples\n",
    "dimension). In the MNIST example, samples are images of digits.\n",
    " In addition, deep-learning models don’t process an entire dataset at once; rather,\n",
    "they break the data into small batches. Concretely, here’s one batch of our MNIST digits, with batch size of 1"
   ]
  },
  {
   "cell_type": "code",
   "execution_count": 21,
   "id": "acde8128",
   "metadata": {},
   "outputs": [],
   "source": [
    "batch = train_images[:128] # silicing of batch size always apply on 0 axis/Zero_axis/samples_axis/samples_dimension \n",
    "# Zero_axis is always a sample for any kind of data \n",
    "# samples are number of sample of data such as 90, 990, 60000, 10000 etc "
   ]
  },
  {
   "cell_type": "code",
   "execution_count": 22,
   "id": "e74ef953",
   "metadata": {},
   "outputs": [
    {
     "data": {
      "text/plain": [
       "(128, 28, 28)"
      ]
     },
     "execution_count": 22,
     "metadata": {},
     "output_type": "execute_result"
    }
   ],
   "source": [
    "batch.shape"
   ]
  },
  {
   "cell_type": "code",
   "execution_count": 23,
   "id": "106cc893",
   "metadata": {},
   "outputs": [],
   "source": [
    "#next batch\n",
    "batch = train_images[128:256]"
   ]
  },
  {
   "cell_type": "code",
   "execution_count": 24,
   "id": "5491d977",
   "metadata": {},
   "outputs": [
    {
     "data": {
      "text/plain": [
       "(128, 28, 28)"
      ]
     },
     "execution_count": 24,
     "metadata": {},
     "output_type": "execute_result"
    }
   ],
   "source": [
    "batch.shape"
   ]
  },
  {
   "cell_type": "code",
   "execution_count": 25,
   "id": "dcd9afed",
   "metadata": {},
   "outputs": [
    {
     "data": {
      "text/plain": [
       "(128, 28, 28)"
      ]
     },
     "execution_count": 25,
     "metadata": {},
     "output_type": "execute_result"
    }
   ],
   "source": [
    "#nth batch\n",
    "n=0\n",
    "batch = train_images[128 * n:128 * (n + 1)]\n",
    "# here 128 * n -> starting point and 128 * (n + 1) -> ending point\n",
    "# I,e n = 0 then 128 * 0 : 128 * ( 0 + 1 ) ====> 0 : 128 * (1) ====> 0 : 128\n",
    "# now it divide 60000 into batches of 128\n",
    "batch.shape"
   ]
  },
  {
   "cell_type": "markdown",
   "id": "d8a9117c",
   "metadata": {},
   "source": [
    "# Vector data\n",
    "\n",
    "- This is the most common case. In such a dataset, each single data point can be encoded as a vector\n",
    "\n",
    "- a batch of data will be encoded as a 2D tensor (that is, an array of vectors)  where the first axis is the samples axis and the second axis is the features axis.\n",
    "\n",
    "- An actuarial dataset of people, where we consider each person’s age, ZIP code, and income. Each person can be characterized as a vector of 3 values, and thus an entire dataset of 100,000 people can be stored in a 2D tensor of shape (100000, 3).\n",
    "- MOST IMPORTANT 100000 -----> samples,  3 -----> features(columns)\n",
    "\n",
    "- A dataset of text documents, where we represent each document by the counts of how many times each word appears in it (out of a dictionary of 20,000 common words). Each document can be encoded as a vector of 20,000 values (one count per word in the dictionary), and thus an entire dataset of 500 documents can be stored in a tensor of shape (500, 20000). \n",
    "\n",
    "- MOST IMPORTANT 500 ---> samples, 20000 ---> features"
   ]
  },
  {
   "cell_type": "code",
   "execution_count": 26,
   "id": "e9dda932",
   "metadata": {},
   "outputs": [
    {
     "data": {
      "text/plain": [
       "(4,)"
      ]
     },
     "execution_count": 26,
     "metadata": {},
     "output_type": "execute_result"
    }
   ],
   "source": [
    "x = np.array([12, 3, 6, 14]) # x = np.array([12, 3, 6, 14]) -> Vector \n",
    "x.shape"
   ]
  },
  {
   "cell_type": "code",
   "execution_count": 27,
   "id": "6a067e22",
   "metadata": {},
   "outputs": [
    {
     "data": {
      "text/plain": [
       "(3, 4)"
      ]
     },
     "execution_count": 27,
     "metadata": {},
     "output_type": "execute_result"
    }
   ],
   "source": [
    "x = np.array([[12, 3, 6, 14],\n",
    "            [12, 3, 6, 14],\n",
    "            [12, 3, 6, 14]]) # x = np.array([12, 3, 6, 14]) -> is one of the Vector of x metrix  \n",
    "x.shape\n",
    "# here 3 --> sample, 4 --> features"
   ]
  },
  {
   "cell_type": "code",
   "execution_count": 28,
   "id": "54f0f5b5",
   "metadata": {},
   "outputs": [],
   "source": [
    "import pandas as pd"
   ]
  },
  {
   "cell_type": "code",
   "execution_count": 29,
   "id": "e0fbc839",
   "metadata": {},
   "outputs": [
    {
     "data": {
      "text/html": [
       "<div>\n",
       "<style scoped>\n",
       "    .dataframe tbody tr th:only-of-type {\n",
       "        vertical-align: middle;\n",
       "    }\n",
       "\n",
       "    .dataframe tbody tr th {\n",
       "        vertical-align: top;\n",
       "    }\n",
       "\n",
       "    .dataframe thead th {\n",
       "        text-align: right;\n",
       "    }\n",
       "</style>\n",
       "<table border=\"1\" class=\"dataframe\">\n",
       "  <thead>\n",
       "    <tr style=\"text-align: right;\">\n",
       "      <th></th>\n",
       "      <th>A</th>\n",
       "      <th>B</th>\n",
       "      <th>C</th>\n",
       "      <th>D</th>\n",
       "    </tr>\n",
       "  </thead>\n",
       "  <tbody>\n",
       "    <tr>\n",
       "      <th>0</th>\n",
       "      <td>12</td>\n",
       "      <td>3</td>\n",
       "      <td>6</td>\n",
       "      <td>14</td>\n",
       "    </tr>\n",
       "    <tr>\n",
       "      <th>1</th>\n",
       "      <td>12</td>\n",
       "      <td>3</td>\n",
       "      <td>6</td>\n",
       "      <td>14</td>\n",
       "    </tr>\n",
       "    <tr>\n",
       "      <th>2</th>\n",
       "      <td>12</td>\n",
       "      <td>3</td>\n",
       "      <td>6</td>\n",
       "      <td>14</td>\n",
       "    </tr>\n",
       "  </tbody>\n",
       "</table>\n",
       "</div>"
      ],
      "text/plain": [
       "    A  B  C   D\n",
       "0  12  3  6  14\n",
       "1  12  3  6  14\n",
       "2  12  3  6  14"
      ]
     },
     "execution_count": 29,
     "metadata": {},
     "output_type": "execute_result"
    }
   ],
   "source": [
    "df = pd.DataFrame(x, columns=list('ABCD'))\n",
    "df"
   ]
  },
  {
   "cell_type": "markdown",
   "id": "0d2ccfea",
   "metadata": {},
   "source": [
    "# 2.2.10 Timeseries data or sequence data\n",
    "- Timeseries data/sequence data—3D tensors of shape (samples, timesteps, features)\n",
    "- I,e I am saying I have data of whole one year with every day of that year meanwhile every hours of that day which have name, last_name, and id so the dimension of that data is (365, 24, 3) ---> 3D. (samples --> 365, timesteps --> 24, features --> 3) \n",
    "\n",
    "- I,e I am saying I have data of whole one year, every day of that year meanwhile every minute of that day which have name, last_name, and id so the dimension of that data is (365, 24*60, 3) ---> 3D. (samples --> 365, timesteps --> 24*60, features --> 3) \n",
    "\n",
    "- I,e I am saying I have data of whole one year, every day of that year meanwhile every second of that day which have name, last_name, and id so the dimension of that data is (365, 24*60*60, 3) ---> 3D. (samples --> 365, timesteps --> 24*60*60, features --> 3) \n",
    "\n",
    "- I,e I am saying I have data of whole one year, every day of that year meanwhile every mile second of that day which have name, last_name, and id so the dimension of that data is (365, (24*60*60)*1000, 3) ---> 3D. (samples --> 365, timesteps --> (24*60*60)*1000, features --> 3) \n",
    "\n",
    "- dataset of stock prices. Every minute, we store the current price of the stock, the highest price in the past minute, and the lowest price in the past minute. Thus every minute is encoded as a 3D vector, an entire day of trading is encoded as a 2D tensor of shape (390, 3) (390 -> timesteps, 3 -> features) (there are 390 minutes in a trading day), and 250 days’ worth of data can be stored in a 3D tensor of shape (250, 390, 3). (250 -> samples, 390 -> timesteps, 3 -> features) Here, each sample would be one day’s worth of data.\n",
    "\n",
    "- A dataset of tweets, where we encode each tweet as a sequence of 280 characters out of an alphabet of 128 unique characters. In this setting, each character can be encoded as a binary vector of size 128 (an all-zeros vector except for a 1 entry at the index corresponding to the character). Then each tweet can be encoded as a 2D tensor of shape (280, 128), and a dataset of 1 million tweets can be stored in a tensor of shape (1000000, 280, 128) (1000000 --> sample, 280 --> max length , 128-->features(columns). \n"
   ]
  },
  {
   "cell_type": "markdown",
   "id": "7a7a66a6",
   "metadata": {},
   "source": [
    "# 2.2.11 Image data\n",
    "\n",
    "- Images—4D tensors of shape (samples, height, width, channels) --> tensor  or (samples, channels, height, width) --> Theano\n",
    "\n",
    "- (128, 256, 256, 3). (128 --> sample, 256 --> img_width, 256 --> img_height, 3 --> channel) this data has 4-dimensions"
   ]
  },
  {
   "cell_type": "markdown",
   "id": "17abf98c",
   "metadata": {},
   "source": [
    "# 2.2.12 Video data\n",
    "\n",
    "- Video—5D tensors of shape (samples, frames, height, width, channels) --> tensorflow or (samples, frames, channels, height, width) --> Theano\n",
    "\n",
    "- frames --> number of pictures \n",
    "\n",
    "- (4, 240, 144, 256, 3) , (4 --> sample ,240 --> frame, 144 --> height , 256 --> width, 3 --> channels)\n",
    "\n",
    "- 4 videos (every video has 1 minute) have 240 frames/imgs the width and height of each frame/image is (114,256) and mode is 3 (rgb) That’s a total of 106,168,320 values/pixels (4, 240, 144, 256, 3) the product of this numbers is 106,168,320! If the dtype of the tensor was float32, then each value would be stored in 32 bits, so the tensor would represent 405 MB (405 MD == 0.5 GB haLF GB for only four minute video )\n",
    "\n",
    "- Videos you encounter in real life are much lighter, because they aren’t stored in float32, and they’re typically compressed by a large factor (such as in the MPEG format)."
   ]
  },
  {
   "cell_type": "markdown",
   "id": "ff0e2815",
   "metadata": {},
   "source": [
    "# 2.3 The gears of neural networks: tensor operations\n",
    "- Much as any computer program can be ultimately reduced to a small set of binary operations on binary inputs (AND, OR, NOR, and so on), all transformations learned by deep neural networks can be reduced to a handful of tensor operations applied to tensors of numeric data. For instance, it’s possible to add tensors, multiply tensors, and so on\n"
   ]
  },
  {
   "cell_type": "code",
   "execution_count": 7,
   "id": "de44fa63",
   "metadata": {},
   "outputs": [
    {
     "data": {
      "text/plain": [
       "array([[ 0,  1,  2,  3],\n",
       "       [ 4,  5,  6,  7],\n",
       "       [ 8,  9, 10, 11]])"
      ]
     },
     "execution_count": 7,
     "metadata": {},
     "output_type": "execute_result"
    }
   ],
   "source": [
    "x = np.arange(12).reshape(3,4)\n",
    "x"
   ]
  },
  {
   "cell_type": "code",
   "execution_count": 16,
   "id": "60687759",
   "metadata": {
    "scrolled": true
   },
   "outputs": [
    {
     "data": {
      "text/plain": [
       "array([[ 0.09977015,  0.74258368,  0.586647  ],\n",
       "       [ 1.06068301,  0.77966895, -1.74480256],\n",
       "       [-0.72232899,  1.43489306, -1.59778709],\n",
       "       [ 0.20810895, -0.81461843,  1.00351856]])"
      ]
     },
     "execution_count": 16,
     "metadata": {},
     "output_type": "execute_result"
    }
   ],
   "source": [
    "w = np.random.randn(*x.shape).T\n",
    "w"
   ]
  },
  {
   "cell_type": "code",
   "execution_count": 17,
   "id": "5aac2d15",
   "metadata": {},
   "outputs": [
    {
     "name": "stdout",
     "output_type": "stream",
     "text": [
      "3,4\n",
      "4,3\n",
      "no of rows from 1st metrix is 3 and no of column of 2nd metrix 3, so the new metrix's shape will be (3,3)\n"
     ]
    }
   ],
   "source": [
    "xx = (\"3,4\")\n",
    "ww = (\"4,3\")\n",
    "step11 = (\"no of rows from 1st metrix is 3 and no of column of 2nd metrix 3, so the new metrix's shape will be (3,3)\")\n",
    "print(f\"{xx}\\n{ww}\\n{step11}\")"
   ]
  },
  {
   "cell_type": "code",
   "execution_count": 18,
   "id": "161cb989",
   "metadata": {},
   "outputs": [
    {
     "data": {
      "text/plain": [
       "array([[  0.24035189,   1.20559978,  -1.92982105],\n",
       "       [  2.82528435,   9.77570883,  -8.93951741],\n",
       "       [  5.41021681,  18.34581787, -15.94921377]])"
      ]
     },
     "execution_count": 18,
     "metadata": {},
     "output_type": "execute_result"
    }
   ],
   "source": [
    "step1 = np.dot(x,w)\n",
    "step1"
   ]
  },
  {
   "cell_type": "code",
   "execution_count": 19,
   "id": "1e92e274",
   "metadata": {},
   "outputs": [],
   "source": [
    "b = 3"
   ]
  },
  {
   "cell_type": "code",
   "execution_count": 20,
   "id": "09b8db44",
   "metadata": {},
   "outputs": [
    {
     "data": {
      "text/plain": [
       "array([[  3.24035189,   4.20559978,   1.07017895],\n",
       "       [  5.82528435,  12.77570883,  -5.93951741],\n",
       "       [  8.41021681,  21.34581787, -12.94921377]])"
      ]
     },
     "execution_count": 20,
     "metadata": {},
     "output_type": "execute_result"
    }
   ],
   "source": [
    "step2 = step1 + b\n",
    "step2"
   ]
  },
  {
   "cell_type": "code",
   "execution_count": 21,
   "id": "788c8f48",
   "metadata": {},
   "outputs": [
    {
     "data": {
      "text/plain": [
       "array([[ 3.24035189,  4.20559978,  1.07017895],\n",
       "       [ 5.82528435, 12.77570883,  0.        ],\n",
       "       [ 8.41021681, 21.34581787,  0.        ]])"
      ]
     },
     "execution_count": 21,
     "metadata": {},
     "output_type": "execute_result"
    }
   ],
   "source": [
    "# numpy code \n",
    "# one line code with simplicity \n",
    "step3 = np.maximum(step2,0) # relu\n",
    "\"\"\"np.maximum(step2,0) ===> it says that keep the values which higher then 0 or consider non -ve values. else replace -ve\n",
    "values by 0\"\"\"\n",
    "step3"
   ]
  },
  {
   "cell_type": "markdown",
   "id": "a0388e27",
   "metadata": {},
   "source": [
    "# RElu Navie Implementation"
   ]
  },
  {
   "cell_type": "code",
   "execution_count": 38,
   "id": "66817dad",
   "metadata": {},
   "outputs": [
    {
     "data": {
      "text/plain": [
       "array([[0.        , 1.38693262, 3.24970563],\n",
       "       [0.        , 0.        , 0.93795714],\n",
       "       [0.        , 0.        , 0.        ]])"
      ]
     },
     "execution_count": 38,
     "metadata": {},
     "output_type": "execute_result"
    }
   ],
   "source": [
    "#pure python \n",
    "# long logic \n",
    "def naive_relu(x):\n",
    "    assert len(x.shape) == 2\n",
    "    x = x.copy()\n",
    "    for i in range(x.shape[0]):\n",
    "        for j in range(x.shape[1]):\n",
    "            x[i, j] = max(x[i, j], 0)\n",
    "    return x\n",
    "\n",
    "\n",
    "step3_1 = naive_relu(step2)\n",
    "step3_1"
   ]
  },
  {
   "cell_type": "markdown",
   "id": "c4b40868",
   "metadata": {},
   "source": [
    "# Add two array value elements wise"
   ]
  },
  {
   "cell_type": "code",
   "execution_count": 39,
   "id": "d74bb6fd",
   "metadata": {},
   "outputs": [
    {
     "name": "stdout",
     "output_type": "stream",
     "text": [
      "[[ 0  1  2  3]\n",
      " [ 4  5  6  7]\n",
      " [ 8  9 10 11]]\n",
      "\n",
      "[[13 14 15 16]\n",
      " [17 18 19 20]\n",
      " [21 22 23 24]]\n"
     ]
    }
   ],
   "source": [
    "a = np.arange(0,12).reshape(3,4)\n",
    "b = np.arange(13,25).reshape(3,4)\n",
    "print(a,b, sep=\"\\n\\n\")\n"
   ]
  },
  {
   "cell_type": "code",
   "execution_count": 40,
   "id": "cfb8d92e",
   "metadata": {
    "scrolled": true
   },
   "outputs": [
    {
     "data": {
      "text/plain": [
       "array([[13, 15, 17, 19],\n",
       "       [21, 23, 25, 27],\n",
       "       [29, 31, 33, 35]])"
      ]
     },
     "execution_count": 40,
     "metadata": {},
     "output_type": "execute_result"
    }
   ],
   "source": [
    "a + b"
   ]
  },
  {
   "cell_type": "markdown",
   "id": "4c1c28b0",
   "metadata": {},
   "source": [
    "# addition naive code"
   ]
  },
  {
   "cell_type": "code",
   "execution_count": 41,
   "id": "d5f9a8de",
   "metadata": {
    "scrolled": true
   },
   "outputs": [
    {
     "data": {
      "text/plain": [
       "array([[13, 15, 17, 19],\n",
       "       [21, 23, 25, 27],\n",
       "       [29, 31, 33, 35]])"
      ]
     },
     "execution_count": 41,
     "metadata": {},
     "output_type": "execute_result"
    }
   ],
   "source": [
    "def naive_add(x, y):\n",
    "    assert len(x.shape) == 2\n",
    "    assert x.shape == y.shape\n",
    "    x = x.copy()\n",
    "    for i in range(x.shape[0]):\n",
    "        for j in range(x.shape[1]):\n",
    "            x[i, j] += y[i, j]\n",
    "    return x\n",
    "\n",
    "naive_add(a,b)"
   ]
  },
  {
   "cell_type": "markdown",
   "id": "27bdc88a",
   "metadata": {},
   "source": [
    "# 2.3.2 Broadcasting\n",
    "- small array is broadcast with big array but the shape of both array must be same shape "
   ]
  },
  {
   "cell_type": "code",
   "execution_count": 28,
   "id": "e6bbfb2a",
   "metadata": {
    "scrolled": true
   },
   "outputs": [
    {
     "name": "stdout",
     "output_type": "stream",
     "text": [
      "(3, 4)\n",
      "[[ 0.19720034 -0.61640302  0.55127046  2.88286132]\n",
      " [ 0.77786808  0.01208577 -0.05049282  1.65950099]\n",
      " [ 0.19822656 -0.83403729 -0.93446525 -1.03503379]]\n"
     ]
    }
   ],
   "source": [
    "a = np.random.randn(12).reshape((3,4))\n",
    "print(a.shape)\n",
    "print(a)"
   ]
  },
  {
   "cell_type": "code",
   "execution_count": 29,
   "id": "1ed57cde",
   "metadata": {},
   "outputs": [],
   "source": [
    "b = [5]"
   ]
  },
  {
   "cell_type": "code",
   "execution_count": 30,
   "id": "4923b651",
   "metadata": {},
   "outputs": [
    {
     "data": {
      "text/plain": [
       "array([[5.19720034, 4.38359698, 5.55127046, 7.88286132],\n",
       "       [5.77786808, 5.01208577, 4.94950718, 6.65950099],\n",
       "       [5.19822656, 4.16596271, 4.06553475, 3.96496621]])"
      ]
     },
     "execution_count": 30,
     "metadata": {},
     "output_type": "execute_result"
    }
   ],
   "source": [
    "a + b # this is example of boardcast \n",
    "# 1st it boardcast then element wise operation \n",
    "# a has big array and 5 is a small array "
   ]
  },
  {
   "cell_type": "code",
   "execution_count": 31,
   "id": "f699e822",
   "metadata": {},
   "outputs": [
    {
     "data": {
      "text/plain": [
       "array([[20.39440067, 18.76719397, 21.10254092, 25.76572264],\n",
       "       [21.55573616, 20.02417154, 19.89901436, 23.31900197],\n",
       "       [20.39645313, 18.33192542, 18.1310695 , 17.92993242]])"
      ]
     },
     "execution_count": 31,
     "metadata": {},
     "output_type": "execute_result"
    }
   ],
   "source": [
    "b = a + 20 # element wise operation \n",
    "a + b # both array have same size "
   ]
  },
  {
   "cell_type": "code",
   "execution_count": 44,
   "id": "9c204e95",
   "metadata": {},
   "outputs": [
    {
     "data": {
      "text/plain": [
       "array([[  0,   1,   2,   3,   4,   5,   6,   7,   8,   9],\n",
       "       [ 10,  11,  12,  13,  14,  15,  16,  17,  18,  19],\n",
       "       [ 20,  21,  22,  23,  24,  25,  26,  27,  28,  29],\n",
       "       [ 30,  31,  32,  33,  34,  35,  36,  37,  38,  39],\n",
       "       [ 40,  41,  42,  43,  44,  45,  46,  47,  48,  49],\n",
       "       [ 50,  51,  52,  53,  54,  55,  56,  57,  58,  59],\n",
       "       [ 60,  61,  62,  63,  64,  65,  66,  67,  68,  69],\n",
       "       [ 70,  71,  72,  73,  74,  75,  76,  77,  78,  79],\n",
       "       [ 80,  81,  82,  83,  84,  85,  86,  87,  88,  89],\n",
       "       [ 90,  91,  92,  93,  94,  95,  96,  97,  98,  99],\n",
       "       [100, 101, 102, 103, 104, 105, 106, 107, 108, 109],\n",
       "       [110, 111, 112, 113, 114, 115, 116, 117, 118, 119],\n",
       "       [120, 121, 122, 123, 124, 125, 126, 127, 128, 129],\n",
       "       [130, 131, 132, 133, 134, 135, 136, 137, 138, 139],\n",
       "       [140, 141, 142, 143, 144, 145, 146, 147, 148, 149],\n",
       "       [150, 151, 152, 153, 154, 155, 156, 157, 158, 159],\n",
       "       [160, 161, 162, 163, 164, 165, 166, 167, 168, 169],\n",
       "       [170, 171, 172, 173, 174, 175, 176, 177, 178, 179],\n",
       "       [180, 181, 182, 183, 184, 185, 186, 187, 188, 189],\n",
       "       [190, 191, 192, 193, 194, 195, 196, 197, 198, 199],\n",
       "       [200, 201, 202, 203, 204, 205, 206, 207, 208, 209],\n",
       "       [210, 211, 212, 213, 214, 215, 216, 217, 218, 219],\n",
       "       [220, 221, 222, 223, 224, 225, 226, 227, 228, 229],\n",
       "       [230, 231, 232, 233, 234, 235, 236, 237, 238, 239],\n",
       "       [240, 241, 242, 243, 244, 245, 246, 247, 248, 249],\n",
       "       [250, 251, 252, 253, 254, 255, 256, 257, 258, 259],\n",
       "       [260, 261, 262, 263, 264, 265, 266, 267, 268, 269],\n",
       "       [270, 271, 272, 273, 274, 275, 276, 277, 278, 279],\n",
       "       [280, 281, 282, 283, 284, 285, 286, 287, 288, 289],\n",
       "       [290, 291, 292, 293, 294, 295, 296, 297, 298, 299],\n",
       "       [300, 301, 302, 303, 304, 305, 306, 307, 308, 309],\n",
       "       [310, 311, 312, 313, 314, 315, 316, 317, 318, 319]])"
      ]
     },
     "execution_count": 44,
     "metadata": {},
     "output_type": "execute_result"
    }
   ],
   "source": [
    "a = np.arange(32*10).reshape(32,10)\n",
    "b = np.arange(1*10).reshape(1, 10)\n",
    "a"
   ]
  },
  {
   "cell_type": "code",
   "execution_count": 45,
   "id": "9f3e8416",
   "metadata": {},
   "outputs": [
    {
     "data": {
      "text/plain": [
       "array([[0, 1, 2, 3, 4, 5, 6, 7, 8, 9]])"
      ]
     },
     "execution_count": 45,
     "metadata": {},
     "output_type": "execute_result"
    }
   ],
   "source": [
    "b"
   ]
  },
  {
   "cell_type": "code",
   "execution_count": 46,
   "id": "1257cd31",
   "metadata": {},
   "outputs": [
    {
     "data": {
      "text/plain": [
       "array([[  0,   2,   4,   6,   8,  10,  12,  14,  16,  18],\n",
       "       [ 10,  12,  14,  16,  18,  20,  22,  24,  26,  28],\n",
       "       [ 20,  22,  24,  26,  28,  30,  32,  34,  36,  38],\n",
       "       [ 30,  32,  34,  36,  38,  40,  42,  44,  46,  48],\n",
       "       [ 40,  42,  44,  46,  48,  50,  52,  54,  56,  58],\n",
       "       [ 50,  52,  54,  56,  58,  60,  62,  64,  66,  68],\n",
       "       [ 60,  62,  64,  66,  68,  70,  72,  74,  76,  78],\n",
       "       [ 70,  72,  74,  76,  78,  80,  82,  84,  86,  88],\n",
       "       [ 80,  82,  84,  86,  88,  90,  92,  94,  96,  98],\n",
       "       [ 90,  92,  94,  96,  98, 100, 102, 104, 106, 108],\n",
       "       [100, 102, 104, 106, 108, 110, 112, 114, 116, 118],\n",
       "       [110, 112, 114, 116, 118, 120, 122, 124, 126, 128],\n",
       "       [120, 122, 124, 126, 128, 130, 132, 134, 136, 138],\n",
       "       [130, 132, 134, 136, 138, 140, 142, 144, 146, 148],\n",
       "       [140, 142, 144, 146, 148, 150, 152, 154, 156, 158],\n",
       "       [150, 152, 154, 156, 158, 160, 162, 164, 166, 168],\n",
       "       [160, 162, 164, 166, 168, 170, 172, 174, 176, 178],\n",
       "       [170, 172, 174, 176, 178, 180, 182, 184, 186, 188],\n",
       "       [180, 182, 184, 186, 188, 190, 192, 194, 196, 198],\n",
       "       [190, 192, 194, 196, 198, 200, 202, 204, 206, 208],\n",
       "       [200, 202, 204, 206, 208, 210, 212, 214, 216, 218],\n",
       "       [210, 212, 214, 216, 218, 220, 222, 224, 226, 228],\n",
       "       [220, 222, 224, 226, 228, 230, 232, 234, 236, 238],\n",
       "       [230, 232, 234, 236, 238, 240, 242, 244, 246, 248],\n",
       "       [240, 242, 244, 246, 248, 250, 252, 254, 256, 258],\n",
       "       [250, 252, 254, 256, 258, 260, 262, 264, 266, 268],\n",
       "       [260, 262, 264, 266, 268, 270, 272, 274, 276, 278],\n",
       "       [270, 272, 274, 276, 278, 280, 282, 284, 286, 288],\n",
       "       [280, 282, 284, 286, 288, 290, 292, 294, 296, 298],\n",
       "       [290, 292, 294, 296, 298, 300, 302, 304, 306, 308],\n",
       "       [300, 302, 304, 306, 308, 310, 312, 314, 316, 318],\n",
       "       [310, 312, 314, 316, 318, 320, 322, 324, 326, 328]])"
      ]
     },
     "execution_count": 46,
     "metadata": {},
     "output_type": "execute_result"
    }
   ],
   "source": [
    "a + b # broadcast "
   ]
  },
  {
   "cell_type": "markdown",
   "id": "0cd63026",
   "metadata": {},
   "source": [
    "# WX + B\n",
    "- 1) W.T (generate w matrix with tranpose size of X matrix)\n",
    "- 2) dot_product(X, W.T)\n",
    "- 3) after dotproduct add biase (b)\n",
    "- 4) at the end apply activation_function on each element\n",
    "- 5) finally predict value of y_predict\n",
    "- 6)calculate loss (y - y_predict)\n",
    "- 7) update W and b values"
   ]
  },
  {
   "cell_type": "markdown",
   "id": "38e3e85f",
   "metadata": {},
   "source": [
    "# relu(dot(W, input) + b)"
   ]
  },
  {
   "cell_type": "code",
   "execution_count": 47,
   "id": "7076e6cd",
   "metadata": {},
   "outputs": [
    {
     "data": {
      "text/plain": [
       "array([[ 0,  1,  2,  3],\n",
       "       [ 4,  5,  6,  7],\n",
       "       [ 8,  9, 10, 11],\n",
       "       [12, 13, 14, 15],\n",
       "       [16, 17, 18, 19],\n",
       "       [20, 21, 22, 23]])"
      ]
     },
     "execution_count": 47,
     "metadata": {},
     "output_type": "execute_result"
    }
   ],
   "source": [
    "X = np.arange(24).reshape(6,4) # Input\n",
    "X"
   ]
  },
  {
   "cell_type": "code",
   "execution_count": 48,
   "id": "d4ae8536",
   "metadata": {},
   "outputs": [
    {
     "data": {
      "text/plain": [
       "array([[ 0.25834657, -0.98177854,  0.46330802, -1.49041384, -0.35556651,\n",
       "         0.42282823],\n",
       "       [-0.45543296,  0.53570074, -0.97695035,  0.19189106,  0.27633014,\n",
       "         0.4887526 ],\n",
       "       [ 1.58857852,  0.16777974, -0.38349462, -0.82133001,  0.43187805,\n",
       "        -0.41232278],\n",
       "       [ 0.12261545,  1.95919742,  1.43720795, -0.15544944,  2.51309292,\n",
       "        -0.87690842]])"
      ]
     },
     "execution_count": 48,
     "metadata": {},
     "output_type": "execute_result"
    }
   ],
   "source": [
    "# generate W in direction of X\n",
    "W = np.random.randn(*X.shape) # Randomly generate weights w0\n",
    "W = W.T # Transpose\n",
    "W"
   ]
  },
  {
   "cell_type": "code",
   "execution_count": 49,
   "id": "dbe24835",
   "metadata": {},
   "outputs": [
    {
     "data": {
      "text/plain": [
       "array([[-15.33811576, -17.02139184, -18.70466791, -20.38794399],\n",
       "       [ 10.82622718,  10.88651841,  10.94680964,  11.00710087],\n",
       "       [-13.58920491, -13.01811601, -12.44702711, -11.8759382 ],\n",
       "       [ 40.14037842,  45.14013431,  50.1398902 ,  55.13964609]])"
      ]
     },
     "execution_count": 49,
     "metadata": {},
     "output_type": "execute_result"
    }
   ],
   "source": [
    "step1 = np.dot(W,X) # dot_product (input, W.T)\n",
    "step1"
   ]
  },
  {
   "cell_type": "code",
   "execution_count": 50,
   "id": "b5063b5c",
   "metadata": {},
   "outputs": [
    {
     "data": {
      "text/plain": [
       "array([[-13.33811576, -15.02139184, -16.70466791, -18.38794399],\n",
       "       [ 12.82622718,  12.88651841,  12.94680964,  13.00710087],\n",
       "       [-11.58920491, -11.01811601, -10.44702711,  -9.8759382 ],\n",
       "       [ 42.14037842,  47.14013431,  52.1398902 ,  57.13964609]])"
      ]
     },
     "execution_count": 50,
     "metadata": {},
     "output_type": "execute_result"
    }
   ],
   "source": [
    "b = 2 #add biase , weight\n",
    "step2 = step1 + b\n",
    "step2"
   ]
  },
  {
   "cell_type": "code",
   "execution_count": 51,
   "id": "aa67b689",
   "metadata": {},
   "outputs": [
    {
     "data": {
      "text/plain": [
       "array([[ 0.        ,  0.        ,  0.        ,  0.        ],\n",
       "       [12.82622718, 12.88651841, 12.94680964, 13.00710087],\n",
       "       [ 0.        ,  0.        ,  0.        ,  0.        ],\n",
       "       [42.14037842, 47.14013431, 52.1398902 , 57.13964609]])"
      ]
     },
     "execution_count": 51,
     "metadata": {},
     "output_type": "execute_result"
    }
   ],
   "source": [
    "# apply relu function on step2\n",
    "np.maximum(step2, 0) # Relu Function"
   ]
  },
  {
   "cell_type": "markdown",
   "id": "53e9e87c",
   "metadata": {},
   "source": [
    "# Relu with Naive code"
   ]
  },
  {
   "cell_type": "code",
   "execution_count": 53,
   "id": "6d862116",
   "metadata": {},
   "outputs": [
    {
     "data": {
      "text/plain": [
       "array([[ 0.        ,  0.        ,  0.        ,  0.        ],\n",
       "       [12.82622718, 12.88651841, 12.94680964, 13.00710087],\n",
       "       [ 0.        ,  0.        ,  0.        ,  0.        ],\n",
       "       [42.14037842, 47.14013431, 52.1398902 , 57.13964609]])"
      ]
     },
     "execution_count": 53,
     "metadata": {},
     "output_type": "execute_result"
    }
   ],
   "source": [
    "def naive_relu(x):\n",
    "    assert len(x.shape) == 2\n",
    "    x = x.copy()\n",
    "    for i in range(x.shape[0]):\n",
    "        for j in range(x.shape[1]):\n",
    "            x[i, j] = max(x[i, j], 0)\n",
    "    return x\n",
    "naive_relu(step2)"
   ]
  },
  {
   "cell_type": "markdown",
   "id": "72fb3b52",
   "metadata": {},
   "source": [
    "# Add Element wise operation"
   ]
  },
  {
   "cell_type": "code",
   "execution_count": 57,
   "id": "386fd844",
   "metadata": {},
   "outputs": [],
   "source": [
    "def naive_add(x, y):\n",
    "    assert len(x.shape) == 2\n",
    "    assert x.shape == y.shape\n",
    "    x = x.copy()\n",
    "    for i in range(x.shape[0]):\n",
    "        for j in range(x.shape[1]):\n",
    "            x[i, j] += y[i, j]\n",
    "    return x"
   ]
  },
  {
   "cell_type": "code",
   "execution_count": 56,
   "id": "7a85738c",
   "metadata": {},
   "outputs": [
    {
     "data": {
      "text/plain": [
       "array([[ 0,  3,  6],\n",
       "       [ 9, 12, 15],\n",
       "       [18, 21, 24],\n",
       "       [27, 30, 33]])"
      ]
     },
     "execution_count": 56,
     "metadata": {},
     "output_type": "execute_result"
    }
   ],
   "source": [
    "naive_add(a,b)"
   ]
  },
  {
   "cell_type": "code",
   "execution_count": 59,
   "id": "84ff2150",
   "metadata": {},
   "outputs": [
    {
     "name": "stdout",
     "output_type": "stream",
     "text": [
      "[[ 0  1  2]\n",
      " [ 3  4  5]\n",
      " [ 6  7  8]\n",
      " [ 9 10 11]]\n",
      "[[ 0  2  4]\n",
      " [ 6  8 10]\n",
      " [12 14 16]\n",
      " [18 20 22]]\n"
     ]
    },
    {
     "data": {
      "text/plain": [
       "array([[ 0,  3,  6],\n",
       "       [ 9, 12, 15],\n",
       "       [18, 21, 24],\n",
       "       [27, 30, 33]])"
      ]
     },
     "execution_count": 59,
     "metadata": {},
     "output_type": "execute_result"
    }
   ],
   "source": [
    "# numpy\n",
    "a = np.arange(12).reshape(4,3)\n",
    "b = a * 2\n",
    "print(a)\n",
    "print(b)\n",
    "a + b"
   ]
  },
  {
   "cell_type": "markdown",
   "id": "ff280420",
   "metadata": {},
   "source": [
    "# BroadCasting"
   ]
  },
  {
   "cell_type": "code",
   "execution_count": 60,
   "id": "3a359c35",
   "metadata": {},
   "outputs": [
    {
     "data": {
      "text/plain": [
       "array([[  0,   1,   2,   3,   4,   5,   6,   7,   8,   9],\n",
       "       [ 10,  11,  12,  13,  14,  15,  16,  17,  18,  19],\n",
       "       [ 20,  21,  22,  23,  24,  25,  26,  27,  28,  29],\n",
       "       [ 30,  31,  32,  33,  34,  35,  36,  37,  38,  39],\n",
       "       [ 40,  41,  42,  43,  44,  45,  46,  47,  48,  49],\n",
       "       [ 50,  51,  52,  53,  54,  55,  56,  57,  58,  59],\n",
       "       [ 60,  61,  62,  63,  64,  65,  66,  67,  68,  69],\n",
       "       [ 70,  71,  72,  73,  74,  75,  76,  77,  78,  79],\n",
       "       [ 80,  81,  82,  83,  84,  85,  86,  87,  88,  89],\n",
       "       [ 90,  91,  92,  93,  94,  95,  96,  97,  98,  99],\n",
       "       [100, 101, 102, 103, 104, 105, 106, 107, 108, 109],\n",
       "       [110, 111, 112, 113, 114, 115, 116, 117, 118, 119],\n",
       "       [120, 121, 122, 123, 124, 125, 126, 127, 128, 129],\n",
       "       [130, 131, 132, 133, 134, 135, 136, 137, 138, 139],\n",
       "       [140, 141, 142, 143, 144, 145, 146, 147, 148, 149],\n",
       "       [150, 151, 152, 153, 154, 155, 156, 157, 158, 159],\n",
       "       [160, 161, 162, 163, 164, 165, 166, 167, 168, 169],\n",
       "       [170, 171, 172, 173, 174, 175, 176, 177, 178, 179],\n",
       "       [180, 181, 182, 183, 184, 185, 186, 187, 188, 189],\n",
       "       [190, 191, 192, 193, 194, 195, 196, 197, 198, 199],\n",
       "       [200, 201, 202, 203, 204, 205, 206, 207, 208, 209],\n",
       "       [210, 211, 212, 213, 214, 215, 216, 217, 218, 219],\n",
       "       [220, 221, 222, 223, 224, 225, 226, 227, 228, 229],\n",
       "       [230, 231, 232, 233, 234, 235, 236, 237, 238, 239],\n",
       "       [240, 241, 242, 243, 244, 245, 246, 247, 248, 249],\n",
       "       [250, 251, 252, 253, 254, 255, 256, 257, 258, 259],\n",
       "       [260, 261, 262, 263, 264, 265, 266, 267, 268, 269],\n",
       "       [270, 271, 272, 273, 274, 275, 276, 277, 278, 279],\n",
       "       [280, 281, 282, 283, 284, 285, 286, 287, 288, 289],\n",
       "       [290, 291, 292, 293, 294, 295, 296, 297, 298, 299],\n",
       "       [300, 301, 302, 303, 304, 305, 306, 307, 308, 309],\n",
       "       [310, 311, 312, 313, 314, 315, 316, 317, 318, 319]])"
      ]
     },
     "execution_count": 60,
     "metadata": {},
     "output_type": "execute_result"
    }
   ],
   "source": [
    "a = np.arange(32*10).reshape(32,10)\n",
    "b = np.arange(1*10).reshape(1,10)\n",
    "a"
   ]
  },
  {
   "cell_type": "code",
   "execution_count": 61,
   "id": "2259c040",
   "metadata": {},
   "outputs": [
    {
     "data": {
      "text/plain": [
       "array([[0, 1, 2, 3, 4, 5, 6, 7, 8, 9]])"
      ]
     },
     "execution_count": 61,
     "metadata": {},
     "output_type": "execute_result"
    }
   ],
   "source": [
    "b"
   ]
  },
  {
   "cell_type": "code",
   "execution_count": 62,
   "id": "29637d4b",
   "metadata": {
    "scrolled": false
   },
   "outputs": [
    {
     "data": {
      "text/plain": [
       "array([[  0,   2,   4,   6,   8,  10,  12,  14,  16,  18],\n",
       "       [ 10,  12,  14,  16,  18,  20,  22,  24,  26,  28],\n",
       "       [ 20,  22,  24,  26,  28,  30,  32,  34,  36,  38],\n",
       "       [ 30,  32,  34,  36,  38,  40,  42,  44,  46,  48],\n",
       "       [ 40,  42,  44,  46,  48,  50,  52,  54,  56,  58],\n",
       "       [ 50,  52,  54,  56,  58,  60,  62,  64,  66,  68],\n",
       "       [ 60,  62,  64,  66,  68,  70,  72,  74,  76,  78],\n",
       "       [ 70,  72,  74,  76,  78,  80,  82,  84,  86,  88],\n",
       "       [ 80,  82,  84,  86,  88,  90,  92,  94,  96,  98],\n",
       "       [ 90,  92,  94,  96,  98, 100, 102, 104, 106, 108],\n",
       "       [100, 102, 104, 106, 108, 110, 112, 114, 116, 118],\n",
       "       [110, 112, 114, 116, 118, 120, 122, 124, 126, 128],\n",
       "       [120, 122, 124, 126, 128, 130, 132, 134, 136, 138],\n",
       "       [130, 132, 134, 136, 138, 140, 142, 144, 146, 148],\n",
       "       [140, 142, 144, 146, 148, 150, 152, 154, 156, 158],\n",
       "       [150, 152, 154, 156, 158, 160, 162, 164, 166, 168],\n",
       "       [160, 162, 164, 166, 168, 170, 172, 174, 176, 178],\n",
       "       [170, 172, 174, 176, 178, 180, 182, 184, 186, 188],\n",
       "       [180, 182, 184, 186, 188, 190, 192, 194, 196, 198],\n",
       "       [190, 192, 194, 196, 198, 200, 202, 204, 206, 208],\n",
       "       [200, 202, 204, 206, 208, 210, 212, 214, 216, 218],\n",
       "       [210, 212, 214, 216, 218, 220, 222, 224, 226, 228],\n",
       "       [220, 222, 224, 226, 228, 230, 232, 234, 236, 238],\n",
       "       [230, 232, 234, 236, 238, 240, 242, 244, 246, 248],\n",
       "       [240, 242, 244, 246, 248, 250, 252, 254, 256, 258],\n",
       "       [250, 252, 254, 256, 258, 260, 262, 264, 266, 268],\n",
       "       [260, 262, 264, 266, 268, 270, 272, 274, 276, 278],\n",
       "       [270, 272, 274, 276, 278, 280, 282, 284, 286, 288],\n",
       "       [280, 282, 284, 286, 288, 290, 292, 294, 296, 298],\n",
       "       [290, 292, 294, 296, 298, 300, 302, 304, 306, 308],\n",
       "       [300, 302, 304, 306, 308, 310, 312, 314, 316, 318],\n",
       "       [310, 312, 314, 316, 318, 320, 322, 324, 326, 328]])"
      ]
     },
     "execution_count": 62,
     "metadata": {},
     "output_type": "execute_result"
    }
   ],
   "source": [
    "a + b"
   ]
  },
  {
   "cell_type": "markdown",
   "id": "082c6173",
   "metadata": {},
   "source": [
    "# 2.4.1 What’s a derivative?"
   ]
  },
  {
   "cell_type": "code",
   "execution_count": null,
   "id": "e37f678d",
   "metadata": {},
   "outputs": [],
   "source": [
    "# we take the gredent on bases of loss "
   ]
  },
  {
   "cell_type": "code",
   "execution_count": 63,
   "id": "0ecc7171",
   "metadata": {
    "scrolled": true
   },
   "outputs": [
    {
     "name": "stdout",
     "output_type": "stream",
     "text": [
      "2.3 2.3\n"
     ]
    }
   ],
   "source": [
    "x = 2\n",
    "epsilon_x = epsilon_y = 0.3 # epsilon_x --> learning rate\n",
    "def f(x):\n",
    "    return x + epsilon_y\n",
    "y = f(x) # if I made small change in x the same change happened in y \n",
    "print(x+epsilon_x,y)"
   ]
  },
  {
   "cell_type": "code",
   "execution_count": 74,
   "id": "6cd5d851",
   "metadata": {},
   "outputs": [
    {
     "data": {
      "image/png": "[encoded data removed]",
      "text/plain": [
       "<Figure size 432x288 with 1 Axes>"
      ]
     },
     "metadata": {
      "needs_background": "light"
     },
     "output_type": "display_data"
    },
    {
     "data": {
      "text/plain": [
       "(173, 228, 3)"
      ]
     },
     "execution_count": 74,
     "metadata": {},
     "output_type": "execute_result"
    }
   ],
   "source": [
    "import matplotlib.pyplot as plt\n",
    "import cv2\n",
    "file_name = \"derviate.png\"\n",
    "image = cv2.imread(file_name)\n",
    "plt.imshow(image)\n",
    "plt.title('derviate or slop',size=19)\n",
    "plt.show()\n",
    "image.shape"
   ]
  },
  {
   "cell_type": "code",
   "execution_count": null,
   "id": "dec2a810",
   "metadata": {},
   "outputs": [],
   "source": [
    "# you will not get linear equation always sometime you might get curve equation then you have to find the slop "
   ]
  },
  {
   "cell_type": "code",
   "execution_count": 64,
   "id": "118ae886",
   "metadata": {},
   "outputs": [
    {
     "data": {
      "text/plain": [
       "12"
      ]
     },
     "execution_count": 64,
     "metadata": {},
     "output_type": "execute_result"
    }
   ],
   "source": [
    "def a(x):\n",
    "    return x+2\n",
    "def b(x):\n",
    "    return x+3\n",
    "def c(x):\n",
    "    return x+5\n",
    "c(b(a(2)))"
   ]
  },
  {
   "cell_type": "code",
   "execution_count": 66,
   "id": "d7b69463",
   "metadata": {},
   "outputs": [
    {
     "data": {
      "text/plain": [
       "array([[ 0.25834657, -0.98177854,  0.46330802, -1.49041384, -0.35556651,\n",
       "         0.42282823],\n",
       "       [-0.45543296,  0.53570074, -0.97695035,  0.19189106,  0.27633014,\n",
       "         0.4887526 ],\n",
       "       [ 1.58857852,  0.16777974, -0.38349462, -0.82133001,  0.43187805,\n",
       "        -0.41232278],\n",
       "       [ 0.12261545,  1.95919742,  1.43720795, -0.15544944,  2.51309292,\n",
       "        -0.87690842]])"
      ]
     },
     "execution_count": 66,
     "metadata": {},
     "output_type": "execute_result"
    }
   ],
   "source": [
    "g = 2 #Gradient slop\n",
    "step = 0.2 # learning rate == step\n",
    "W"
   ]
  },
  {
   "cell_type": "code",
   "execution_count": 67,
   "id": "1fd1ae76",
   "metadata": {
    "scrolled": false
   },
   "outputs": [
    {
     "data": {
      "text/plain": [
       "array([[-0.14165343, -1.38177854,  0.06330802, -1.89041384, -0.75556651,\n",
       "         0.02282823],\n",
       "       [-0.85543296,  0.13570074, -1.37695035, -0.20810894, -0.12366986,\n",
       "         0.0887526 ],\n",
       "       [ 1.18857852, -0.23222026, -0.78349462, -1.22133001,  0.03187805,\n",
       "        -0.81232278],\n",
       "       [-0.27738455,  1.55919742,  1.03720795, -0.55544944,  2.11309292,\n",
       "        -1.27690842]])"
      ]
     },
     "execution_count": 67,
     "metadata": {},
     "output_type": "execute_result"
    }
   ],
   "source": [
    "w1 = W - step * g # g= gradient\n",
    "w1"
   ]
  },
  {
   "cell_type": "markdown",
   "id": "13ed015b",
   "metadata": {},
   "source": [
    "# Stochastic gradient descent\n",
    "- 0 Stochastic means random \n",
    "- 1 Draw a batch of training samples x and corresponding targets y.\n",
    "- 2 Run the network on x to obtain predictions y_pred.\n",
    "- 3 Compute the loss of the network on the batch, a measure of the mismatch between y_pred and y.\n",
    "- 4 Compute the gradient of the loss with regard to the network’s parameters (a backward pass).\n",
    "- 5 Move the parameters a little in the opposite direction from the gradient—for example W -= step * gradient—thus reducing the loss on the batch a bit\n",
    "- 6 Stochastic gradient descent has n-dimensions"
   ]
  },
  {
   "cell_type": "code",
   "execution_count": 72,
   "id": "9a2b2e47",
   "metadata": {},
   "outputs": [
    {
     "data": {
      "image/png": "[encoded data removed]",
      "text/plain": [
       "<Figure size 432x288 with 1 Axes>"
      ]
     },
     "metadata": {
      "needs_background": "light"
     },
     "output_type": "display_data"
    },
    {
     "data": {
      "text/plain": [
       "(261, 319, 3)"
      ]
     },
     "execution_count": 72,
     "metadata": {},
     "output_type": "execute_result"
    }
   ],
   "source": [
    "file_name = \"steps.png\"\n",
    "image = cv2.imread(file_name)\n",
    "plt.imshow(image)\n",
    "plt.title('steps',size=19)\n",
    "plt.show()\n",
    "image.shape"
   ]
  },
  {
   "cell_type": "code",
   "execution_count": 71,
   "id": "8d4774ae",
   "metadata": {},
   "outputs": [
    {
     "data": {
      "image/png": "[encoded data removed]",
      "text/plain": [
       "<Figure size 432x288 with 1 Axes>"
      ]
     },
     "metadata": {
      "needs_background": "light"
     },
     "output_type": "display_data"
    },
    {
     "data": {
      "text/plain": [
       "(291, 385, 3)"
      ]
     },
     "execution_count": 71,
     "metadata": {},
     "output_type": "execute_result"
    }
   ],
   "source": [
    "file_name = \"SGD.png\"\n",
    "image = cv2.imread(file_name)\n",
    "plt.imshow(image)\n",
    "plt.title('Stochastic gradient descent has n-dimensions',size=19)\n",
    "plt.show()\n",
    "image.shape"
   ]
  },
  {
   "cell_type": "code",
   "execution_count": 75,
   "id": "6ddc849b",
   "metadata": {},
   "outputs": [
    {
     "data": {
      "image/png": "[encoded data removed]",
      "text/plain": [
       "<Figure size 432x288 with 1 Axes>"
      ]
     },
     "metadata": {
      "needs_background": "light"
     },
     "output_type": "display_data"
    },
    {
     "data": {
      "text/plain": [
       "(263, 620, 3)"
      ]
     },
     "execution_count": 75,
     "metadata": {},
     "output_type": "execute_result"
    }
   ],
   "source": [
    "# momentum = mv \n",
    "# sometime we stack in local minimum due which the loss is not nearer 0 so momentum made easy to get loss nearer to 0 by global minimum\n",
    "file_name = \"local and global minima.png\"\n",
    "image = cv2.imread(file_name)\n",
    "plt.imshow(image)\n",
    "plt.title('Stochastic gradient descent has momentum ',size=19)\n",
    "plt.show()\n",
    "image.shape"
   ]
  },
  {
   "cell_type": "markdown",
   "id": "b19e25a6",
   "metadata": {},
   "source": [
    "# 2.5 Looking back at our first example"
   ]
  },
  {
   "cell_type": "code",
   "execution_count": 76,
   "id": "2fde339c",
   "metadata": {},
   "outputs": [],
   "source": [
    "from tensorflow.keras.datasets import mnist\n",
    "(train_images, train_labels), (test_images, test_labels) = mnist.load_data()"
   ]
  },
  {
   "cell_type": "code",
   "execution_count": 77,
   "id": "973df97e",
   "metadata": {},
   "outputs": [
    {
     "data": {
      "text/plain": [
       "array([5, 0, 4, ..., 5, 6, 8], dtype=uint8)"
      ]
     },
     "execution_count": 77,
     "metadata": {},
     "output_type": "execute_result"
    }
   ],
   "source": [
    "train_labels"
   ]
  },
  {
   "cell_type": "code",
   "execution_count": 80,
   "id": "5b595440",
   "metadata": {},
   "outputs": [
    {
     "name": "stdout",
     "output_type": "stream",
     "text": [
      "this is train_labels 4\n"
     ]
    },
    {
     "data": {
      "image/png": "[encoded data removed]",
      "text/plain": [
       "<Figure size 432x288 with 1 Axes>"
      ]
     },
     "metadata": {
      "needs_background": "light"
     },
     "output_type": "display_data"
    }
   ],
   "source": [
    "i = 2\n",
    "tr_digit = train_images[i]\n",
    "tr_label = train_labels[i]\n",
    "print(f'this is train_labels {tr_label}')\n",
    "\n",
    "plt.imshow(tr_digit, cmap=plt.cm.binary)\n",
    "plt.show()"
   ]
  },
  {
   "cell_type": "code",
   "execution_count": 81,
   "id": "e5412b44",
   "metadata": {},
   "outputs": [
    {
     "data": {
      "text/plain": [
       "array([7, 2, 1, ..., 4, 5, 6], dtype=uint8)"
      ]
     },
     "execution_count": 81,
     "metadata": {},
     "output_type": "execute_result"
    }
   ],
   "source": [
    "test_labels"
   ]
  },
  {
   "cell_type": "code",
   "execution_count": 82,
   "id": "0a986c43",
   "metadata": {},
   "outputs": [
    {
     "name": "stdout",
     "output_type": "stream",
     "text": [
      "1\n"
     ]
    },
    {
     "data": {
      "image/png": "[encoded data removed]",
      "text/plain": [
       "<Figure size 432x288 with 1 Axes>"
      ]
     },
     "metadata": {
      "needs_background": "light"
     },
     "output_type": "display_data"
    }
   ],
   "source": [
    "i = 2\n",
    "ts_digit = test_images[i]\n",
    "ts_label = test_labels[i]\n",
    "print(ts_label)\n",
    "plt.imshow(ts_digit, cmap=plt.cm.binary)\n",
    "plt.show()"
   ]
  },
  {
   "cell_type": "code",
   "execution_count": 83,
   "id": "c2d61001",
   "metadata": {},
   "outputs": [
    {
     "name": "stdout",
     "output_type": "stream",
     "text": [
      "60000\n",
      "10000\n",
      "60000\n",
      "10000\n"
     ]
    }
   ],
   "source": [
    "print(len(train_images))\n",
    "print(len(test_images))\n",
    "print(len(train_labels))\n",
    "print(len(test_labels))"
   ]
  },
  {
   "cell_type": "code",
   "execution_count": 84,
   "id": "448b16da",
   "metadata": {},
   "outputs": [
    {
     "data": {
      "text/plain": [
       "2"
      ]
     },
     "execution_count": 84,
     "metadata": {},
     "output_type": "execute_result"
    }
   ],
   "source": [
    "tr_digit.ndim"
   ]
  },
  {
   "cell_type": "code",
   "execution_count": 85,
   "id": "d3f4579b",
   "metadata": {},
   "outputs": [
    {
     "data": {
      "text/plain": [
       "3"
      ]
     },
     "execution_count": 85,
     "metadata": {},
     "output_type": "execute_result"
    }
   ],
   "source": [
    "train_images.ndim"
   ]
  },
  {
   "cell_type": "code",
   "execution_count": 86,
   "id": "68828a01",
   "metadata": {},
   "outputs": [
    {
     "data": {
      "text/plain": [
       "(28, 28)"
      ]
     },
     "execution_count": 86,
     "metadata": {},
     "output_type": "execute_result"
    }
   ],
   "source": [
    "tr_digit.shape"
   ]
  },
  {
   "cell_type": "code",
   "execution_count": 87,
   "id": "bfd31fa5",
   "metadata": {},
   "outputs": [
    {
     "data": {
      "text/plain": [
       "(60000, 28, 28)"
      ]
     },
     "execution_count": 87,
     "metadata": {},
     "output_type": "execute_result"
    }
   ],
   "source": [
    "train_images.shape"
   ]
  },
  {
   "cell_type": "code",
   "execution_count": 88,
   "id": "8915c2f3",
   "metadata": {},
   "outputs": [
    {
     "data": {
      "text/plain": [
       "(10000, 28, 28)"
      ]
     },
     "execution_count": 88,
     "metadata": {},
     "output_type": "execute_result"
    }
   ],
   "source": [
    "test_images.shape"
   ]
  },
  {
   "cell_type": "markdown",
   "id": "3cd50487",
   "metadata": {},
   "source": [
    "# Listing 2.2 The network architecture"
   ]
  },
  {
   "cell_type": "code",
   "execution_count": 89,
   "id": "6d1ba84d",
   "metadata": {},
   "outputs": [],
   "source": [
    "from tensorflow.keras import models\n",
    "from tensorflow.keras import layers\n",
    "network = models.Sequential()\n",
    "network.add(layers.Dense(512, activation='relu', input_shape=(28 * 28,)))\n",
    "network.add(layers.Dense(10, activation='softmax'))"
   ]
  },
  {
   "cell_type": "code",
   "execution_count": 90,
   "id": "a0a87e5d",
   "metadata": {},
   "outputs": [
    {
     "data": {
      "text/plain": [
       "(784,)"
      ]
     },
     "execution_count": 90,
     "metadata": {},
     "output_type": "execute_result"
    }
   ],
   "source": [
    "(28*28,)"
   ]
  },
  {
   "cell_type": "code",
   "execution_count": 92,
   "id": "f2206afb",
   "metadata": {},
   "outputs": [
    {
     "name": "stdout",
     "output_type": "stream",
     "text": [
      "(28, 28)\n",
      "(784,)\n",
      "0.9166666666666666\n"
     ]
    }
   ],
   "source": [
    "print(tr_digit.shape)\n",
    "print(tr_digit.reshape((28*28)).shape)\n",
    "print(55000/60000)"
   ]
  },
  {
   "cell_type": "markdown",
   "id": "aff1706b",
   "metadata": {},
   "source": [
    "# Listing 2.3 The compilation step"
   ]
  },
  {
   "cell_type": "code",
   "execution_count": 93,
   "id": "fa429481",
   "metadata": {},
   "outputs": [],
   "source": [
    "network.compile(optimizer='rmsprop',\n",
    "                loss='categorical_crossentropy', # it has multiple categories \n",
    "                metrics=['accuracy'])"
   ]
  },
  {
   "cell_type": "code",
   "execution_count": 94,
   "id": "71b743fe",
   "metadata": {},
   "outputs": [
    {
     "data": {
      "text/plain": [
       "5"
      ]
     },
     "execution_count": 94,
     "metadata": {},
     "output_type": "execute_result"
    }
   ],
   "source": [
    "# Y->One-Hot_encoding\n",
    "train_labels[0]"
   ]
  },
  {
   "cell_type": "markdown",
   "id": "01c51ce6",
   "metadata": {},
   "source": [
    "# Listing 2.4 Preparing the image data"
   ]
  },
  {
   "cell_type": "code",
   "execution_count": 95,
   "id": "95ab611d",
   "metadata": {},
   "outputs": [],
   "source": [
    "train_images = train_images.reshape((60000, 28 * 28)) # Reshape\n",
    "train_images = train_images.astype('float32') / 255 # Normalization\n",
    "test_images = test_images.reshape((10000, 28 * 28)) # Reshape\n",
    "test_images = test_images.astype('float32') / 255 # Normalization"
   ]
  },
  {
   "cell_type": "markdown",
   "id": "060ced27",
   "metadata": {},
   "source": [
    "# Listing 2.5 Preparing the labels"
   ]
  },
  {
   "cell_type": "code",
   "execution_count": 96,
   "id": "5eeef575",
   "metadata": {},
   "outputs": [],
   "source": [
    "from tensorflow.keras.utils import to_categorical\n",
    "train_labels = to_categorical(train_labels)\n",
    "test_labels = to_categorical(test_labels)"
   ]
  },
  {
   "cell_type": "code",
   "execution_count": 102,
   "id": "ba59fb16",
   "metadata": {},
   "outputs": [
    {
     "name": "stdout",
     "output_type": "stream",
     "text": [
      "train_labels: [0. 0. 0. 0. 0. 1. 0. 0. 0. 0.]\n",
      "train_images: (60000, 784)\n",
      "shape: (60000, 784)\n"
     ]
    }
   ],
   "source": [
    "print(f\"train_labels: {train_labels[0]}\")\n",
    "print(f\"train_images: {train_images.shape}\")\n",
    "print(f'shape: {60000,28*28}')"
   ]
  },
  {
   "cell_type": "markdown",
   "id": "a6ac9868",
   "metadata": {},
   "source": [
    "# Now Train Our Model"
   ]
  },
  {
   "cell_type": "code",
   "execution_count": 103,
   "id": "873aa384",
   "metadata": {},
   "outputs": [
    {
     "name": "stdout",
     "output_type": "stream",
     "text": [
      "Epoch 1/5\n",
      "469/469 [==============================] - 8s 12ms/step - loss: 0.2567 - accuracy: 0.9253\n",
      "Epoch 2/5\n",
      "469/469 [==============================] - 6s 13ms/step - loss: 0.1015 - accuracy: 0.9699\n",
      "Epoch 3/5\n",
      "469/469 [==============================] - 6s 13ms/step - loss: 0.0667 - accuracy: 0.9795\n",
      "Epoch 4/5\n",
      "469/469 [==============================] - 6s 12ms/step - loss: 0.0478 - accuracy: 0.9856\n",
      "Epoch 5/5\n",
      "469/469 [==============================] - 6s 13ms/step - loss: 0.0364 - accuracy: 0.9891\n"
     ]
    },
    {
     "data": {
      "text/plain": [
       "<keras.callbacks.History at 0x289b6fc6310>"
      ]
     },
     "execution_count": 103,
     "metadata": {},
     "output_type": "execute_result"
    }
   ],
   "source": [
    "network.fit(train_images, train_labels, epochs=5, batch_size=128)"
   ]
  },
  {
   "cell_type": "markdown",
   "id": "711ee71c",
   "metadata": {},
   "source": [
    "# Now Test on Unseen Data"
   ]
  },
  {
   "cell_type": "code",
   "execution_count": 104,
   "id": "82463455",
   "metadata": {
    "scrolled": true
   },
   "outputs": [
    {
     "name": "stdout",
     "output_type": "stream",
     "text": [
      "313/313 [==============================] - 2s 4ms/step - loss: 0.0693 - accuracy: 0.9785\n",
      "test_acc: 0.9785000085830688\n"
     ]
    }
   ],
   "source": [
    "test_loss, test_acc = network.evaluate(test_images, test_labels)\n",
    "print('test_acc:', test_acc)"
   ]
  },
  {
   "cell_type": "markdown",
   "id": "83f29fc7",
   "metadata": {},
   "source": [
    "# Chapter summary\n",
    "- Learning means finding a combination of model parameters that minimizes a loss function for a given set of training data samples and their cor\u0002responding targets.\n",
    "\n",
    "- Learning happens by drawing random batches of data samples and their targets, and computing the gradient of the network parameters with respect to the loss on the batch. The network parameters are then moved a bit (the magnitude of the move is defined by the learning rate) in the opposite direction from the gradient.\n",
    "\n",
    "- The entire learning process is made possible by the fact that neural networks are chains of differentiable tensor operations, and thus it’s possible to apply the chain rule of derivation to find the gradient function mapping the current parameters and current batch of data to a gradient value.\n",
    "\n",
    "- Two key concepts you’ll see frequently in future chapters are loss and optimizers. These are the two things you need to define before you begin feeding data into a network. \n",
    "\n",
    "- The loss is the quantity you’ll attempt to minimize during training, so it should represent a measure of success for the task you’re trying to solve.\n",
    "- The optimizer specifies the exact way in which the gradient of the loss will be used to update parameters: for instance, it could be the RMSProp optimizer, SGD with momentum, and so on."
   ]
  },
  {
   "cell_type": "code",
   "execution_count": null,
   "id": "6c54d7a0",
   "metadata": {},
   "outputs": [],
   "source": []
  }
 ],
 "metadata": {
  "kernelspec": {
   "display_name": "Python 3 (ipykernel)",
   "language": "python",
   "name": "python3"
  },
  "language_info": {
   "codemirror_mode": {
    "name": "ipython",
    "version": 3
   },
   "file_extension": ".py",
   "mimetype": "text/x-python",
   "name": "python",
   "nbconvert_exporter": "python",
   "pygments_lexer": "ipython3",
   "version": "3.9.12"
  }
 },
 "nbformat": 4,
 "nbformat_minor": 5
}
